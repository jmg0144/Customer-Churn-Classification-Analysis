{
 "cells": [
  {
   "cell_type": "markdown",
   "metadata": {},
   "source": [
    "# SyriaTel Customer Churn Analysis"
   ]
  },
  {
   "cell_type": "markdown",
   "metadata": {},
   "source": [
    "## Business Problem"
   ]
  },
  {
   "cell_type": "markdown",
   "metadata": {},
   "source": [
    "SyriaTel, a telecommunications company, is interested in knowing the important factors in determining whether or not a customer will stay with the company. The primary goal of this notebook is to help SyriaTel keep current customers and offer business strategies on how to do so based on the analysis provided. \n",
    "\n",
    "Using customer account data, this notebook will analyze what features from the data are most important in prediciting customer churn, or whether or not they will leave the company. In order to do this the notebook will provide classification models aimed at producing the highest possible precision metric. Precsison was chosen as the primary metric based on the fact that it is the correct percentage of all the postive predictions. Because prediciting 'true' churn is the primary goal of the models this metric would make the most sense. Another metric that will also be taken into consideration as the secondary evaluation metric is area under the curve or AUC. This metric also seems relevant to the business problem due to the fact that a higher AUC score is correlated with better true positive predicitions, which is what we are after. \n",
    "\n",
    "Once the model with the highest precision and AUC score has been established we will then look at the coefficients/feature importances of the model in order to determine what factors were most important in producing the model. Using these coeffiecients, business strategies will then be provided as to how to increase profits by reducing churn among customers.   "
   ]
  },
  {
   "cell_type": "markdown",
   "metadata": {},
   "source": [
    "## Import Libraries"
   ]
  },
  {
   "cell_type": "code",
   "execution_count": 1,
   "metadata": {},
   "outputs": [],
   "source": [
    "import pandas as pd\n",
    "import numpy as np\n",
    "import matplotlib.pyplot as plt\n",
    "%matplotlib inline\n",
    "import seaborn as sns\n",
    "import statsmodels.api as sm\n",
    "from sklearn.model_selection import train_test_split\n",
    "from sklearn import preprocessing\n",
    "from sklearn.linear_model import LogisticRegression\n",
    "from sklearn.datasets import make_classification\n",
    "from sklearn.metrics import confusion_matrix\n",
    "from sklearn.tree import DecisionTreeClassifier \n",
    "from sklearn.metrics import accuracy_score, roc_curve, auc\n",
    "from sklearn.preprocessing import OneHotEncoder\n",
    "from sklearn.tree import export_graphviz, plot_tree\n",
    "from IPython.display import Image\n",
    "from sklearn import tree\n",
    "from sklearn.metrics import plot_confusion_matrix, classification_report\n",
    "from sklearn.ensemble import RandomForestClassifier\n",
    "from xgboost import XGBClassifier\n",
    "from sklearn.preprocessing import StandardScaler\n",
    "from sklearn.preprocessing import LabelEncoder\n",
    "from sklearn.model_selection import GridSearchCV"
   ]
  },
  {
   "cell_type": "markdown",
   "metadata": {},
   "source": [
    "## Load Data"
   ]
  },
  {
   "cell_type": "code",
   "execution_count": 2,
   "metadata": {},
   "outputs": [
    {
     "data": {
      "text/html": [
       "<div>\n",
       "<style scoped>\n",
       "    .dataframe tbody tr th:only-of-type {\n",
       "        vertical-align: middle;\n",
       "    }\n",
       "\n",
       "    .dataframe tbody tr th {\n",
       "        vertical-align: top;\n",
       "    }\n",
       "\n",
       "    .dataframe thead th {\n",
       "        text-align: right;\n",
       "    }\n",
       "</style>\n",
       "<table border=\"1\" class=\"dataframe\">\n",
       "  <thead>\n",
       "    <tr style=\"text-align: right;\">\n",
       "      <th></th>\n",
       "      <th>state</th>\n",
       "      <th>account length</th>\n",
       "      <th>area code</th>\n",
       "      <th>phone number</th>\n",
       "      <th>international plan</th>\n",
       "      <th>voice mail plan</th>\n",
       "      <th>number vmail messages</th>\n",
       "      <th>total day minutes</th>\n",
       "      <th>total day calls</th>\n",
       "      <th>total day charge</th>\n",
       "      <th>...</th>\n",
       "      <th>total eve calls</th>\n",
       "      <th>total eve charge</th>\n",
       "      <th>total night minutes</th>\n",
       "      <th>total night calls</th>\n",
       "      <th>total night charge</th>\n",
       "      <th>total intl minutes</th>\n",
       "      <th>total intl calls</th>\n",
       "      <th>total intl charge</th>\n",
       "      <th>customer service calls</th>\n",
       "      <th>churn</th>\n",
       "    </tr>\n",
       "  </thead>\n",
       "  <tbody>\n",
       "    <tr>\n",
       "      <th>0</th>\n",
       "      <td>KS</td>\n",
       "      <td>128</td>\n",
       "      <td>415</td>\n",
       "      <td>382-4657</td>\n",
       "      <td>no</td>\n",
       "      <td>yes</td>\n",
       "      <td>25</td>\n",
       "      <td>265.1</td>\n",
       "      <td>110</td>\n",
       "      <td>45.07</td>\n",
       "      <td>...</td>\n",
       "      <td>99</td>\n",
       "      <td>16.78</td>\n",
       "      <td>244.7</td>\n",
       "      <td>91</td>\n",
       "      <td>11.01</td>\n",
       "      <td>10.0</td>\n",
       "      <td>3</td>\n",
       "      <td>2.70</td>\n",
       "      <td>1</td>\n",
       "      <td>False</td>\n",
       "    </tr>\n",
       "    <tr>\n",
       "      <th>1</th>\n",
       "      <td>OH</td>\n",
       "      <td>107</td>\n",
       "      <td>415</td>\n",
       "      <td>371-7191</td>\n",
       "      <td>no</td>\n",
       "      <td>yes</td>\n",
       "      <td>26</td>\n",
       "      <td>161.6</td>\n",
       "      <td>123</td>\n",
       "      <td>27.47</td>\n",
       "      <td>...</td>\n",
       "      <td>103</td>\n",
       "      <td>16.62</td>\n",
       "      <td>254.4</td>\n",
       "      <td>103</td>\n",
       "      <td>11.45</td>\n",
       "      <td>13.7</td>\n",
       "      <td>3</td>\n",
       "      <td>3.70</td>\n",
       "      <td>1</td>\n",
       "      <td>False</td>\n",
       "    </tr>\n",
       "    <tr>\n",
       "      <th>2</th>\n",
       "      <td>NJ</td>\n",
       "      <td>137</td>\n",
       "      <td>415</td>\n",
       "      <td>358-1921</td>\n",
       "      <td>no</td>\n",
       "      <td>no</td>\n",
       "      <td>0</td>\n",
       "      <td>243.4</td>\n",
       "      <td>114</td>\n",
       "      <td>41.38</td>\n",
       "      <td>...</td>\n",
       "      <td>110</td>\n",
       "      <td>10.30</td>\n",
       "      <td>162.6</td>\n",
       "      <td>104</td>\n",
       "      <td>7.32</td>\n",
       "      <td>12.2</td>\n",
       "      <td>5</td>\n",
       "      <td>3.29</td>\n",
       "      <td>0</td>\n",
       "      <td>False</td>\n",
       "    </tr>\n",
       "    <tr>\n",
       "      <th>3</th>\n",
       "      <td>OH</td>\n",
       "      <td>84</td>\n",
       "      <td>408</td>\n",
       "      <td>375-9999</td>\n",
       "      <td>yes</td>\n",
       "      <td>no</td>\n",
       "      <td>0</td>\n",
       "      <td>299.4</td>\n",
       "      <td>71</td>\n",
       "      <td>50.90</td>\n",
       "      <td>...</td>\n",
       "      <td>88</td>\n",
       "      <td>5.26</td>\n",
       "      <td>196.9</td>\n",
       "      <td>89</td>\n",
       "      <td>8.86</td>\n",
       "      <td>6.6</td>\n",
       "      <td>7</td>\n",
       "      <td>1.78</td>\n",
       "      <td>2</td>\n",
       "      <td>False</td>\n",
       "    </tr>\n",
       "    <tr>\n",
       "      <th>4</th>\n",
       "      <td>OK</td>\n",
       "      <td>75</td>\n",
       "      <td>415</td>\n",
       "      <td>330-6626</td>\n",
       "      <td>yes</td>\n",
       "      <td>no</td>\n",
       "      <td>0</td>\n",
       "      <td>166.7</td>\n",
       "      <td>113</td>\n",
       "      <td>28.34</td>\n",
       "      <td>...</td>\n",
       "      <td>122</td>\n",
       "      <td>12.61</td>\n",
       "      <td>186.9</td>\n",
       "      <td>121</td>\n",
       "      <td>8.41</td>\n",
       "      <td>10.1</td>\n",
       "      <td>3</td>\n",
       "      <td>2.73</td>\n",
       "      <td>3</td>\n",
       "      <td>False</td>\n",
       "    </tr>\n",
       "  </tbody>\n",
       "</table>\n",
       "<p>5 rows × 21 columns</p>\n",
       "</div>"
      ],
      "text/plain": [
       "  state  account length  area code phone number international plan  \\\n",
       "0    KS             128        415     382-4657                 no   \n",
       "1    OH             107        415     371-7191                 no   \n",
       "2    NJ             137        415     358-1921                 no   \n",
       "3    OH              84        408     375-9999                yes   \n",
       "4    OK              75        415     330-6626                yes   \n",
       "\n",
       "  voice mail plan  number vmail messages  total day minutes  total day calls  \\\n",
       "0             yes                     25              265.1              110   \n",
       "1             yes                     26              161.6              123   \n",
       "2              no                      0              243.4              114   \n",
       "3              no                      0              299.4               71   \n",
       "4              no                      0              166.7              113   \n",
       "\n",
       "   total day charge  ...  total eve calls  total eve charge  \\\n",
       "0             45.07  ...               99             16.78   \n",
       "1             27.47  ...              103             16.62   \n",
       "2             41.38  ...              110             10.30   \n",
       "3             50.90  ...               88              5.26   \n",
       "4             28.34  ...              122             12.61   \n",
       "\n",
       "   total night minutes  total night calls  total night charge  \\\n",
       "0                244.7                 91               11.01   \n",
       "1                254.4                103               11.45   \n",
       "2                162.6                104                7.32   \n",
       "3                196.9                 89                8.86   \n",
       "4                186.9                121                8.41   \n",
       "\n",
       "   total intl minutes  total intl calls  total intl charge  \\\n",
       "0                10.0                 3               2.70   \n",
       "1                13.7                 3               3.70   \n",
       "2                12.2                 5               3.29   \n",
       "3                 6.6                 7               1.78   \n",
       "4                10.1                 3               2.73   \n",
       "\n",
       "   customer service calls  churn  \n",
       "0                       1  False  \n",
       "1                       1  False  \n",
       "2                       0  False  \n",
       "3                       2  False  \n",
       "4                       3  False  \n",
       "\n",
       "[5 rows x 21 columns]"
      ]
     },
     "execution_count": 2,
     "metadata": {},
     "output_type": "execute_result"
    }
   ],
   "source": [
    "#Load dataset on SyriaTel customers' account information\n",
    "df = pd.read_csv('Data/bigml_59c28831336c6604c800002a.csv')\n",
    "df.head()"
   ]
  },
  {
   "cell_type": "code",
   "execution_count": 3,
   "metadata": {},
   "outputs": [
    {
     "data": {
      "text/html": [
       "<div>\n",
       "<style scoped>\n",
       "    .dataframe tbody tr th:only-of-type {\n",
       "        vertical-align: middle;\n",
       "    }\n",
       "\n",
       "    .dataframe tbody tr th {\n",
       "        vertical-align: top;\n",
       "    }\n",
       "\n",
       "    .dataframe thead th {\n",
       "        text-align: right;\n",
       "    }\n",
       "</style>\n",
       "<table border=\"1\" class=\"dataframe\">\n",
       "  <thead>\n",
       "    <tr style=\"text-align: right;\">\n",
       "      <th></th>\n",
       "      <th>account length</th>\n",
       "      <th>area code</th>\n",
       "      <th>number vmail messages</th>\n",
       "      <th>total day minutes</th>\n",
       "      <th>total day calls</th>\n",
       "      <th>total day charge</th>\n",
       "      <th>total eve minutes</th>\n",
       "      <th>total eve calls</th>\n",
       "      <th>total eve charge</th>\n",
       "      <th>total night minutes</th>\n",
       "      <th>total night calls</th>\n",
       "      <th>total night charge</th>\n",
       "      <th>total intl minutes</th>\n",
       "      <th>total intl calls</th>\n",
       "      <th>total intl charge</th>\n",
       "      <th>customer service calls</th>\n",
       "    </tr>\n",
       "  </thead>\n",
       "  <tbody>\n",
       "    <tr>\n",
       "      <th>count</th>\n",
       "      <td>3333.000000</td>\n",
       "      <td>3333.000000</td>\n",
       "      <td>3333.000000</td>\n",
       "      <td>3333.000000</td>\n",
       "      <td>3333.000000</td>\n",
       "      <td>3333.000000</td>\n",
       "      <td>3333.000000</td>\n",
       "      <td>3333.000000</td>\n",
       "      <td>3333.000000</td>\n",
       "      <td>3333.000000</td>\n",
       "      <td>3333.000000</td>\n",
       "      <td>3333.000000</td>\n",
       "      <td>3333.000000</td>\n",
       "      <td>3333.000000</td>\n",
       "      <td>3333.000000</td>\n",
       "      <td>3333.000000</td>\n",
       "    </tr>\n",
       "    <tr>\n",
       "      <th>mean</th>\n",
       "      <td>101.064806</td>\n",
       "      <td>437.182418</td>\n",
       "      <td>8.099010</td>\n",
       "      <td>179.775098</td>\n",
       "      <td>100.435644</td>\n",
       "      <td>30.562307</td>\n",
       "      <td>200.980348</td>\n",
       "      <td>100.114311</td>\n",
       "      <td>17.083540</td>\n",
       "      <td>200.872037</td>\n",
       "      <td>100.107711</td>\n",
       "      <td>9.039325</td>\n",
       "      <td>10.237294</td>\n",
       "      <td>4.479448</td>\n",
       "      <td>2.764581</td>\n",
       "      <td>1.562856</td>\n",
       "    </tr>\n",
       "    <tr>\n",
       "      <th>std</th>\n",
       "      <td>39.822106</td>\n",
       "      <td>42.371290</td>\n",
       "      <td>13.688365</td>\n",
       "      <td>54.467389</td>\n",
       "      <td>20.069084</td>\n",
       "      <td>9.259435</td>\n",
       "      <td>50.713844</td>\n",
       "      <td>19.922625</td>\n",
       "      <td>4.310668</td>\n",
       "      <td>50.573847</td>\n",
       "      <td>19.568609</td>\n",
       "      <td>2.275873</td>\n",
       "      <td>2.791840</td>\n",
       "      <td>2.461214</td>\n",
       "      <td>0.753773</td>\n",
       "      <td>1.315491</td>\n",
       "    </tr>\n",
       "    <tr>\n",
       "      <th>min</th>\n",
       "      <td>1.000000</td>\n",
       "      <td>408.000000</td>\n",
       "      <td>0.000000</td>\n",
       "      <td>0.000000</td>\n",
       "      <td>0.000000</td>\n",
       "      <td>0.000000</td>\n",
       "      <td>0.000000</td>\n",
       "      <td>0.000000</td>\n",
       "      <td>0.000000</td>\n",
       "      <td>23.200000</td>\n",
       "      <td>33.000000</td>\n",
       "      <td>1.040000</td>\n",
       "      <td>0.000000</td>\n",
       "      <td>0.000000</td>\n",
       "      <td>0.000000</td>\n",
       "      <td>0.000000</td>\n",
       "    </tr>\n",
       "    <tr>\n",
       "      <th>25%</th>\n",
       "      <td>74.000000</td>\n",
       "      <td>408.000000</td>\n",
       "      <td>0.000000</td>\n",
       "      <td>143.700000</td>\n",
       "      <td>87.000000</td>\n",
       "      <td>24.430000</td>\n",
       "      <td>166.600000</td>\n",
       "      <td>87.000000</td>\n",
       "      <td>14.160000</td>\n",
       "      <td>167.000000</td>\n",
       "      <td>87.000000</td>\n",
       "      <td>7.520000</td>\n",
       "      <td>8.500000</td>\n",
       "      <td>3.000000</td>\n",
       "      <td>2.300000</td>\n",
       "      <td>1.000000</td>\n",
       "    </tr>\n",
       "    <tr>\n",
       "      <th>50%</th>\n",
       "      <td>101.000000</td>\n",
       "      <td>415.000000</td>\n",
       "      <td>0.000000</td>\n",
       "      <td>179.400000</td>\n",
       "      <td>101.000000</td>\n",
       "      <td>30.500000</td>\n",
       "      <td>201.400000</td>\n",
       "      <td>100.000000</td>\n",
       "      <td>17.120000</td>\n",
       "      <td>201.200000</td>\n",
       "      <td>100.000000</td>\n",
       "      <td>9.050000</td>\n",
       "      <td>10.300000</td>\n",
       "      <td>4.000000</td>\n",
       "      <td>2.780000</td>\n",
       "      <td>1.000000</td>\n",
       "    </tr>\n",
       "    <tr>\n",
       "      <th>75%</th>\n",
       "      <td>127.000000</td>\n",
       "      <td>510.000000</td>\n",
       "      <td>20.000000</td>\n",
       "      <td>216.400000</td>\n",
       "      <td>114.000000</td>\n",
       "      <td>36.790000</td>\n",
       "      <td>235.300000</td>\n",
       "      <td>114.000000</td>\n",
       "      <td>20.000000</td>\n",
       "      <td>235.300000</td>\n",
       "      <td>113.000000</td>\n",
       "      <td>10.590000</td>\n",
       "      <td>12.100000</td>\n",
       "      <td>6.000000</td>\n",
       "      <td>3.270000</td>\n",
       "      <td>2.000000</td>\n",
       "    </tr>\n",
       "    <tr>\n",
       "      <th>max</th>\n",
       "      <td>243.000000</td>\n",
       "      <td>510.000000</td>\n",
       "      <td>51.000000</td>\n",
       "      <td>350.800000</td>\n",
       "      <td>165.000000</td>\n",
       "      <td>59.640000</td>\n",
       "      <td>363.700000</td>\n",
       "      <td>170.000000</td>\n",
       "      <td>30.910000</td>\n",
       "      <td>395.000000</td>\n",
       "      <td>175.000000</td>\n",
       "      <td>17.770000</td>\n",
       "      <td>20.000000</td>\n",
       "      <td>20.000000</td>\n",
       "      <td>5.400000</td>\n",
       "      <td>9.000000</td>\n",
       "    </tr>\n",
       "  </tbody>\n",
       "</table>\n",
       "</div>"
      ],
      "text/plain": [
       "       account length    area code  number vmail messages  total day minutes  \\\n",
       "count     3333.000000  3333.000000            3333.000000        3333.000000   \n",
       "mean       101.064806   437.182418               8.099010         179.775098   \n",
       "std         39.822106    42.371290              13.688365          54.467389   \n",
       "min          1.000000   408.000000               0.000000           0.000000   \n",
       "25%         74.000000   408.000000               0.000000         143.700000   \n",
       "50%        101.000000   415.000000               0.000000         179.400000   \n",
       "75%        127.000000   510.000000              20.000000         216.400000   \n",
       "max        243.000000   510.000000              51.000000         350.800000   \n",
       "\n",
       "       total day calls  total day charge  total eve minutes  total eve calls  \\\n",
       "count      3333.000000       3333.000000        3333.000000      3333.000000   \n",
       "mean        100.435644         30.562307         200.980348       100.114311   \n",
       "std          20.069084          9.259435          50.713844        19.922625   \n",
       "min           0.000000          0.000000           0.000000         0.000000   \n",
       "25%          87.000000         24.430000         166.600000        87.000000   \n",
       "50%         101.000000         30.500000         201.400000       100.000000   \n",
       "75%         114.000000         36.790000         235.300000       114.000000   \n",
       "max         165.000000         59.640000         363.700000       170.000000   \n",
       "\n",
       "       total eve charge  total night minutes  total night calls  \\\n",
       "count       3333.000000          3333.000000        3333.000000   \n",
       "mean          17.083540           200.872037         100.107711   \n",
       "std            4.310668            50.573847          19.568609   \n",
       "min            0.000000            23.200000          33.000000   \n",
       "25%           14.160000           167.000000          87.000000   \n",
       "50%           17.120000           201.200000         100.000000   \n",
       "75%           20.000000           235.300000         113.000000   \n",
       "max           30.910000           395.000000         175.000000   \n",
       "\n",
       "       total night charge  total intl minutes  total intl calls  \\\n",
       "count         3333.000000         3333.000000       3333.000000   \n",
       "mean             9.039325           10.237294          4.479448   \n",
       "std              2.275873            2.791840          2.461214   \n",
       "min              1.040000            0.000000          0.000000   \n",
       "25%              7.520000            8.500000          3.000000   \n",
       "50%              9.050000           10.300000          4.000000   \n",
       "75%             10.590000           12.100000          6.000000   \n",
       "max             17.770000           20.000000         20.000000   \n",
       "\n",
       "       total intl charge  customer service calls  \n",
       "count        3333.000000             3333.000000  \n",
       "mean            2.764581                1.562856  \n",
       "std             0.753773                1.315491  \n",
       "min             0.000000                0.000000  \n",
       "25%             2.300000                1.000000  \n",
       "50%             2.780000                1.000000  \n",
       "75%             3.270000                2.000000  \n",
       "max             5.400000                9.000000  "
      ]
     },
     "execution_count": 3,
     "metadata": {},
     "output_type": "execute_result"
    }
   ],
   "source": [
    "df.describe()"
   ]
  },
  {
   "cell_type": "code",
   "execution_count": 4,
   "metadata": {},
   "outputs": [
    {
     "name": "stdout",
     "output_type": "stream",
     "text": [
      "<class 'pandas.core.frame.DataFrame'>\n",
      "RangeIndex: 3333 entries, 0 to 3332\n",
      "Data columns (total 21 columns):\n",
      " #   Column                  Non-Null Count  Dtype  \n",
      "---  ------                  --------------  -----  \n",
      " 0   state                   3333 non-null   object \n",
      " 1   account length          3333 non-null   int64  \n",
      " 2   area code               3333 non-null   int64  \n",
      " 3   phone number            3333 non-null   object \n",
      " 4   international plan      3333 non-null   object \n",
      " 5   voice mail plan         3333 non-null   object \n",
      " 6   number vmail messages   3333 non-null   int64  \n",
      " 7   total day minutes       3333 non-null   float64\n",
      " 8   total day calls         3333 non-null   int64  \n",
      " 9   total day charge        3333 non-null   float64\n",
      " 10  total eve minutes       3333 non-null   float64\n",
      " 11  total eve calls         3333 non-null   int64  \n",
      " 12  total eve charge        3333 non-null   float64\n",
      " 13  total night minutes     3333 non-null   float64\n",
      " 14  total night calls       3333 non-null   int64  \n",
      " 15  total night charge      3333 non-null   float64\n",
      " 16  total intl minutes      3333 non-null   float64\n",
      " 17  total intl calls        3333 non-null   int64  \n",
      " 18  total intl charge       3333 non-null   float64\n",
      " 19  customer service calls  3333 non-null   int64  \n",
      " 20  churn                   3333 non-null   bool   \n",
      "dtypes: bool(1), float64(8), int64(8), object(4)\n",
      "memory usage: 524.2+ KB\n"
     ]
    }
   ],
   "source": [
    "df.info()"
   ]
  },
  {
   "cell_type": "markdown",
   "metadata": {},
   "source": [
    "## Data Description"
   ]
  },
  {
   "cell_type": "markdown",
   "metadata": {},
   "source": [
    "The dataset contains relevant customer account data including:\n",
    "  - The state the customer is from\n",
    "    \n",
    "  - The account length of the customer\n",
    "    \n",
    "  - the customer's area code\n",
    "    \n",
    "  - Whether or not the customer has an international plan\n",
    "    \n",
    "  - Whether or not the customer has a voicemail plan\n",
    "    \n",
    "  - The total day, evening, night, and international minutes of the customer\n",
    "    \n",
    "  - The total day, evening, night, and international calls of the customer\n",
    "    \n",
    "  - The total day, evening, night, and international charge of the customer\n",
    "    \n",
    "  - The total customer service calls of the customer\n",
    "    \n",
    "  - Whether or not the customer was 'true' or 'false' churn (true churn meaning that they have left the company, this will be the primary focus of the models)\n",
    "  \n",
    "  - The data appears to contain no missing values."
   ]
  },
  {
   "cell_type": "markdown",
   "metadata": {},
   "source": [
    "## Data Cleaning"
   ]
  },
  {
   "cell_type": "code",
   "execution_count": 5,
   "metadata": {},
   "outputs": [
    {
     "data": {
      "text/plain": [
       "Index(['state', 'account_length', 'area_code', 'phone_number',\n",
       "       'international_plan', 'voice_mail_plan', 'number_vmail_messages',\n",
       "       'total_day_minutes', 'total_day_calls', 'total_day_charge',\n",
       "       'total_eve_minutes', 'total_eve_calls', 'total_eve_charge',\n",
       "       'total_night_minutes', 'total_night_calls', 'total_night_charge',\n",
       "       'total_intl_minutes', 'total_intl_calls', 'total_intl_charge',\n",
       "       'customer_service_calls', 'churn'],\n",
       "      dtype='object')"
      ]
     },
     "execution_count": 5,
     "metadata": {},
     "output_type": "execute_result"
    }
   ],
   "source": [
    "#Update column names to include underscore\n",
    "updated_columns = []\n",
    "for c in df.columns:\n",
    "    updated_columns.append(c.replace(' ', '_'))\n",
    "df.columns = updated_columns\n",
    "df.columns"
   ]
  },
  {
   "cell_type": "code",
   "execution_count": 6,
   "metadata": {},
   "outputs": [],
   "source": [
    "#Convert area_code column to object \n",
    "df['area_code'] = df.area_code.astype(object)"
   ]
  },
  {
   "cell_type": "code",
   "execution_count": 7,
   "metadata": {},
   "outputs": [
    {
     "name": "stdout",
     "output_type": "stream",
     "text": [
      "<class 'pandas.core.frame.DataFrame'>\n",
      "RangeIndex: 3333 entries, 0 to 3332\n",
      "Data columns (total 21 columns):\n",
      " #   Column                  Non-Null Count  Dtype  \n",
      "---  ------                  --------------  -----  \n",
      " 0   state                   3333 non-null   object \n",
      " 1   account_length          3333 non-null   int64  \n",
      " 2   area_code               3333 non-null   object \n",
      " 3   phone_number            3333 non-null   object \n",
      " 4   international_plan      3333 non-null   object \n",
      " 5   voice_mail_plan         3333 non-null   object \n",
      " 6   number_vmail_messages   3333 non-null   int64  \n",
      " 7   total_day_minutes       3333 non-null   float64\n",
      " 8   total_day_calls         3333 non-null   int64  \n",
      " 9   total_day_charge        3333 non-null   float64\n",
      " 10  total_eve_minutes       3333 non-null   float64\n",
      " 11  total_eve_calls         3333 non-null   int64  \n",
      " 12  total_eve_charge        3333 non-null   float64\n",
      " 13  total_night_minutes     3333 non-null   float64\n",
      " 14  total_night_calls       3333 non-null   int64  \n",
      " 15  total_night_charge      3333 non-null   float64\n",
      " 16  total_intl_minutes      3333 non-null   float64\n",
      " 17  total_intl_calls        3333 non-null   int64  \n",
      " 18  total_intl_charge       3333 non-null   float64\n",
      " 19  customer_service_calls  3333 non-null   int64  \n",
      " 20  churn                   3333 non-null   bool   \n",
      "dtypes: bool(1), float64(8), int64(7), object(5)\n",
      "memory usage: 524.2+ KB\n"
     ]
    }
   ],
   "source": [
    "#Updated dataframe info\n",
    "df.info()"
   ]
  },
  {
   "cell_type": "markdown",
   "metadata": {},
   "source": [
    "## Data Exploration"
   ]
  },
  {
   "cell_type": "code",
   "execution_count": 8,
   "metadata": {},
   "outputs": [],
   "source": [
    "plt.style.use('fivethirtyeight')"
   ]
  },
  {
   "cell_type": "markdown",
   "metadata": {},
   "source": [
    " - Will explore data to see if there are any noticible trends in order to make predictions."
   ]
  },
  {
   "cell_type": "code",
   "execution_count": 9,
   "metadata": {},
   "outputs": [
    {
     "data": {
      "text/plain": [
       "False    0.855086\n",
       "True     0.144914\n",
       "Name: churn, dtype: float64"
      ]
     },
     "execution_count": 9,
     "metadata": {},
     "output_type": "execute_result"
    }
   ],
   "source": [
    "#Check value counts for churn\n",
    "df.churn.value_counts(normalize=True)"
   ]
  },
  {
   "cell_type": "code",
   "execution_count": 10,
   "metadata": {},
   "outputs": [],
   "source": [
    "def countplot(X, title):\n",
    "    sns.countplot(x=X, data=df)\n",
    "    plt.title(title);"
   ]
  },
  {
   "cell_type": "code",
   "execution_count": 11,
   "metadata": {},
   "outputs": [
    {
     "data": {
      "image/png": "[encoded data removed]",
      "text/plain": [
       "<Figure size 432x288 with 1 Axes>"
      ]
     },
     "metadata": {},
     "output_type": "display_data"
    }
   ],
   "source": [
    "countplot('churn','Churn Class Imbalance')"
   ]
  },
  {
   "cell_type": "markdown",
   "metadata": {},
   "source": [
    " - Data contains significatly more 'false's then 'true's, this will need to be addressed later when building models in order to prevent class imbalance."
   ]
  },
  {
   "cell_type": "code",
   "execution_count": 12,
   "metadata": {},
   "outputs": [
    {
     "data": {
      "image/png": "[encoded data removed]",
      "text/plain": [
       "<Figure size 432x288 with 1 Axes>"
      ]
     },
     "metadata": {},
     "output_type": "display_data"
    }
   ],
   "source": [
    "countplot('area_code','Area Code Distribution')"
   ]
  },
  {
   "cell_type": "code",
   "execution_count": 13,
   "metadata": {},
   "outputs": [],
   "source": [
    "def countplot_hue(X, title, h):\n",
    "    sns.countplot(x=X, data=df, hue=h)\n",
    "    plt.title(title);"
   ]
  },
  {
   "cell_type": "code",
   "execution_count": 14,
   "metadata": {},
   "outputs": [
    {
     "data": {
      "image/png": "[encoded data removed]",
      "text/plain": [
       "<Figure size 432x288 with 1 Axes>"
      ]
     },
     "metadata": {},
     "output_type": "display_data"
    }
   ],
   "source": [
    "countplot_hue('churn', 'Area Code by Churn', 'area_code')"
   ]
  },
  {
   "cell_type": "markdown",
   "metadata": {},
   "source": [
    " - Area code only contains three different values, which appear evenly distributed across churn. Will likely drop this column. "
   ]
  },
  {
   "cell_type": "code",
   "execution_count": 15,
   "metadata": {},
   "outputs": [
    {
     "data": {
      "image/png": "[encoded data removed]",
      "text/plain": [
       "<Figure size 432x288 with 1 Axes>"
      ]
     },
     "metadata": {},
     "output_type": "display_data"
    }
   ],
   "source": [
    "#Countplot for international_plan column\n",
    "sns.countplot(x='international_plan', data=df);"
   ]
  },
  {
   "cell_type": "markdown",
   "metadata": {},
   "source": [
    " - Internaional plan will need to be converted to categorical feature."
   ]
  },
  {
   "cell_type": "code",
   "execution_count": 16,
   "metadata": {},
   "outputs": [
    {
     "data": {
      "image/png": "[encoded data removed]",
      "text/plain": [
       "<Figure size 432x288 with 1 Axes>"
      ]
     },
     "metadata": {},
     "output_type": "display_data"
    }
   ],
   "source": [
    "# Countplot showing distribution of international_plan by churn\n",
    "sns.countplot(x='churn', hue='international_plan', data=df);"
   ]
  },
  {
   "cell_type": "markdown",
   "metadata": {},
   "source": [
    " - It appears both categories contain a similar number of 'yes's despite the much greater number of False-churns from the data. This could be an idication that customers with True-churn are more likely to have an international plan. This could mean that international is a good predictor of churn."
   ]
  },
  {
   "cell_type": "code",
   "execution_count": 17,
   "metadata": {},
   "outputs": [
    {
     "data": {
      "image/png": "[encoded data removed]",
      "text/plain": [
       "<Figure size 432x288 with 1 Axes>"
      ]
     },
     "metadata": {},
     "output_type": "display_data"
    }
   ],
   "source": [
    "#Countplot of voice_mail_plan column\n",
    "sns.countplot(x='voice_mail_plan', data=df);"
   ]
  },
  {
   "cell_type": "code",
   "execution_count": 18,
   "metadata": {},
   "outputs": [
    {
     "data": {
      "image/png": "[encoded data removed]",
      "text/plain": [
       "<Figure size 432x288 with 1 Axes>"
      ]
     },
     "metadata": {},
     "output_type": "display_data"
    }
   ],
   "source": [
    "# Countplot showing distribution of voice_mail_plan by churn\n",
    "sns.countplot(x='churn', hue='voice_mail_plan', data=df);"
   ]
  },
  {
   "cell_type": "markdown",
   "metadata": {},
   "source": [
    " - Voice mail plan appears to be similar across churn despite the unbalanced data, and is likely not a good predictor of churn."
   ]
  },
  {
   "cell_type": "code",
   "execution_count": 19,
   "metadata": {},
   "outputs": [
    {
     "data": {
      "image/png": "[encoded data removed]",
      "text/plain": [
       "<Figure size 360x360 with 1 Axes>"
      ]
     },
     "metadata": {},
     "output_type": "display_data"
    }
   ],
   "source": [
    "#Check distribution of number_vmail_messages column\n",
    "sns.displot(x=df['number_vmail_messages'],kind='hist',kde=True);"
   ]
  },
  {
   "cell_type": "markdown",
   "metadata": {},
   "source": [
    " - Number vmail messages does not appear evenly distributed with a large portion of customers having 0 messages. This would make sense as many customers probably delete their voicemail messages and likely would not be a predicitor of churn."
   ]
  },
  {
   "cell_type": "code",
   "execution_count": 20,
   "metadata": {},
   "outputs": [
    {
     "data": {
      "image/png": "[encoded data removed]",
      "text/plain": [
       "<Figure size 360x360 with 1 Axes>"
      ]
     },
     "metadata": {},
     "output_type": "display_data"
    }
   ],
   "source": [
    "#Check distribution of total_intl_calls column\n",
    "sns.displot(x=df['total_intl_calls'],kind='hist',kde=True);"
   ]
  },
  {
   "cell_type": "markdown",
   "metadata": {},
   "source": [
    " - Total intl calls appears somewhat evenly distributed except for outliers over about 12. This would make sense as several customers are likely international customers making a lot of international calls. This likely would not have an effect on churn."
   ]
  },
  {
   "cell_type": "code",
   "execution_count": 21,
   "metadata": {},
   "outputs": [
    {
     "data": {
      "image/png": "[encoded data removed]",
      "text/plain": [
       "<Figure size 360x360 with 1 Axes>"
      ]
     },
     "metadata": {},
     "output_type": "display_data"
    }
   ],
   "source": [
    "#Check distribution of customer_service_calls column\n",
    "sns.displot(x=df['customer_service_calls'],kind='hist',kde=True);"
   ]
  },
  {
   "cell_type": "markdown",
   "metadata": {},
   "source": [
    " - Customer service calls does not appear to be evenly distributed. This feature could be relevant at predicting churn as cutomers who are unhappy with their service would likely make more customer service calls."
   ]
  },
  {
   "cell_type": "markdown",
   "metadata": {},
   "source": [
    "## Pivot Table - Feature Averages"
   ]
  },
  {
   "cell_type": "code",
   "execution_count": 22,
   "metadata": {},
   "outputs": [
    {
     "data": {
      "text/html": [
       "<div>\n",
       "<style scoped>\n",
       "    .dataframe tbody tr th:only-of-type {\n",
       "        vertical-align: middle;\n",
       "    }\n",
       "\n",
       "    .dataframe tbody tr th {\n",
       "        vertical-align: top;\n",
       "    }\n",
       "\n",
       "    .dataframe thead th {\n",
       "        text-align: right;\n",
       "    }\n",
       "</style>\n",
       "<table border=\"1\" class=\"dataframe\">\n",
       "  <thead>\n",
       "    <tr style=\"text-align: right;\">\n",
       "      <th></th>\n",
       "      <th>account_length</th>\n",
       "      <th>customer_service_calls</th>\n",
       "      <th>number_vmail_messages</th>\n",
       "      <th>total_day_calls</th>\n",
       "      <th>total_day_charge</th>\n",
       "      <th>total_day_minutes</th>\n",
       "      <th>total_eve_calls</th>\n",
       "      <th>total_eve_charge</th>\n",
       "      <th>total_eve_minutes</th>\n",
       "      <th>total_intl_calls</th>\n",
       "      <th>total_intl_charge</th>\n",
       "      <th>total_intl_minutes</th>\n",
       "      <th>total_night_calls</th>\n",
       "      <th>total_night_charge</th>\n",
       "      <th>total_night_minutes</th>\n",
       "    </tr>\n",
       "    <tr>\n",
       "      <th>churn</th>\n",
       "      <th></th>\n",
       "      <th></th>\n",
       "      <th></th>\n",
       "      <th></th>\n",
       "      <th></th>\n",
       "      <th></th>\n",
       "      <th></th>\n",
       "      <th></th>\n",
       "      <th></th>\n",
       "      <th></th>\n",
       "      <th></th>\n",
       "      <th></th>\n",
       "      <th></th>\n",
       "      <th></th>\n",
       "      <th></th>\n",
       "    </tr>\n",
       "  </thead>\n",
       "  <tbody>\n",
       "    <tr>\n",
       "      <th>False</th>\n",
       "      <td>100.793684</td>\n",
       "      <td>1.449825</td>\n",
       "      <td>8.604561</td>\n",
       "      <td>100.283158</td>\n",
       "      <td>29.780421</td>\n",
       "      <td>175.175754</td>\n",
       "      <td>100.038596</td>\n",
       "      <td>16.918909</td>\n",
       "      <td>199.043298</td>\n",
       "      <td>4.532982</td>\n",
       "      <td>2.743404</td>\n",
       "      <td>10.158877</td>\n",
       "      <td>100.058246</td>\n",
       "      <td>9.006074</td>\n",
       "      <td>200.133193</td>\n",
       "    </tr>\n",
       "    <tr>\n",
       "      <th>True</th>\n",
       "      <td>102.664596</td>\n",
       "      <td>2.229814</td>\n",
       "      <td>5.115942</td>\n",
       "      <td>101.335404</td>\n",
       "      <td>35.175921</td>\n",
       "      <td>206.914079</td>\n",
       "      <td>100.561077</td>\n",
       "      <td>18.054969</td>\n",
       "      <td>212.410145</td>\n",
       "      <td>4.163561</td>\n",
       "      <td>2.889545</td>\n",
       "      <td>10.700000</td>\n",
       "      <td>100.399586</td>\n",
       "      <td>9.235528</td>\n",
       "      <td>205.231677</td>\n",
       "    </tr>\n",
       "  </tbody>\n",
       "</table>\n",
       "</div>"
      ],
      "text/plain": [
       "       account_length  customer_service_calls  number_vmail_messages  \\\n",
       "churn                                                                  \n",
       "False      100.793684                1.449825               8.604561   \n",
       "True       102.664596                2.229814               5.115942   \n",
       "\n",
       "       total_day_calls  total_day_charge  total_day_minutes  total_eve_calls  \\\n",
       "churn                                                                          \n",
       "False       100.283158         29.780421         175.175754       100.038596   \n",
       "True        101.335404         35.175921         206.914079       100.561077   \n",
       "\n",
       "       total_eve_charge  total_eve_minutes  total_intl_calls  \\\n",
       "churn                                                          \n",
       "False         16.918909         199.043298          4.532982   \n",
       "True          18.054969         212.410145          4.163561   \n",
       "\n",
       "       total_intl_charge  total_intl_minutes  total_night_calls  \\\n",
       "churn                                                             \n",
       "False           2.743404           10.158877         100.058246   \n",
       "True            2.889545           10.700000         100.399586   \n",
       "\n",
       "       total_night_charge  total_night_minutes  \n",
       "churn                                           \n",
       "False            9.006074           200.133193  \n",
       "True             9.235528           205.231677  "
      ]
     },
     "execution_count": 22,
     "metadata": {},
     "output_type": "execute_result"
    }
   ],
   "source": [
    "#Pivot table to check averages of columns across churn\n",
    "pd.pivot_table(df, index='churn', values=df.columns)"
   ]
  },
  {
   "cell_type": "markdown",
   "metadata": {},
   "source": [
    " - Noticed higher average customer service calls for True-churn. This could be an indicator that as cusomter service calls increase so does churn.\n",
    " - Higher average number vmail messages for False-churn. Likely wouldn't expect this feature to have a great impact on churn.\n",
    " - Higher average charge and minutes for True-churn. This would make sense as customer with more minutes would accur a higher charge thus causing them look for a cheaper plan. "
   ]
  },
  {
   "cell_type": "markdown",
   "metadata": {},
   "source": [
    "## Check for Multicollinearity"
   ]
  },
  {
   "cell_type": "code",
   "execution_count": 23,
   "metadata": {},
   "outputs": [
    {
     "data": {
      "text/html": [
       "<div>\n",
       "<style scoped>\n",
       "    .dataframe tbody tr th:only-of-type {\n",
       "        vertical-align: middle;\n",
       "    }\n",
       "\n",
       "    .dataframe tbody tr th {\n",
       "        vertical-align: top;\n",
       "    }\n",
       "\n",
       "    .dataframe thead th {\n",
       "        text-align: right;\n",
       "    }\n",
       "</style>\n",
       "<table border=\"1\" class=\"dataframe\">\n",
       "  <thead>\n",
       "    <tr style=\"text-align: right;\">\n",
       "      <th></th>\n",
       "      <th>account_length</th>\n",
       "      <th>number_vmail_messages</th>\n",
       "      <th>total_day_minutes</th>\n",
       "      <th>total_day_calls</th>\n",
       "      <th>total_day_charge</th>\n",
       "      <th>total_eve_minutes</th>\n",
       "      <th>total_eve_calls</th>\n",
       "      <th>total_eve_charge</th>\n",
       "      <th>total_night_minutes</th>\n",
       "      <th>total_night_calls</th>\n",
       "      <th>total_night_charge</th>\n",
       "      <th>total_intl_minutes</th>\n",
       "      <th>total_intl_calls</th>\n",
       "      <th>total_intl_charge</th>\n",
       "      <th>customer_service_calls</th>\n",
       "      <th>churn</th>\n",
       "    </tr>\n",
       "  </thead>\n",
       "  <tbody>\n",
       "    <tr>\n",
       "      <th>account_length</th>\n",
       "      <td>1.000000</td>\n",
       "      <td>-0.004628</td>\n",
       "      <td>0.006216</td>\n",
       "      <td>0.038470</td>\n",
       "      <td>0.006214</td>\n",
       "      <td>-0.006757</td>\n",
       "      <td>0.019260</td>\n",
       "      <td>-0.006745</td>\n",
       "      <td>-0.008955</td>\n",
       "      <td>-0.013176</td>\n",
       "      <td>-0.008960</td>\n",
       "      <td>0.009514</td>\n",
       "      <td>0.020661</td>\n",
       "      <td>0.009546</td>\n",
       "      <td>-0.003796</td>\n",
       "      <td>0.016541</td>\n",
       "    </tr>\n",
       "    <tr>\n",
       "      <th>number_vmail_messages</th>\n",
       "      <td>-0.004628</td>\n",
       "      <td>1.000000</td>\n",
       "      <td>0.000778</td>\n",
       "      <td>-0.009548</td>\n",
       "      <td>0.000776</td>\n",
       "      <td>0.017562</td>\n",
       "      <td>-0.005864</td>\n",
       "      <td>0.017578</td>\n",
       "      <td>0.007681</td>\n",
       "      <td>0.007123</td>\n",
       "      <td>0.007663</td>\n",
       "      <td>0.002856</td>\n",
       "      <td>0.013957</td>\n",
       "      <td>0.002884</td>\n",
       "      <td>-0.013263</td>\n",
       "      <td>-0.089728</td>\n",
       "    </tr>\n",
       "    <tr>\n",
       "      <th>total_day_minutes</th>\n",
       "      <td>0.006216</td>\n",
       "      <td>0.000778</td>\n",
       "      <td>1.000000</td>\n",
       "      <td>0.006750</td>\n",
       "      <td>1.000000</td>\n",
       "      <td>0.007043</td>\n",
       "      <td>0.015769</td>\n",
       "      <td>0.007029</td>\n",
       "      <td>0.004323</td>\n",
       "      <td>0.022972</td>\n",
       "      <td>0.004300</td>\n",
       "      <td>-0.010155</td>\n",
       "      <td>0.008033</td>\n",
       "      <td>-0.010092</td>\n",
       "      <td>-0.013423</td>\n",
       "      <td>0.205151</td>\n",
       "    </tr>\n",
       "    <tr>\n",
       "      <th>total_day_calls</th>\n",
       "      <td>0.038470</td>\n",
       "      <td>-0.009548</td>\n",
       "      <td>0.006750</td>\n",
       "      <td>1.000000</td>\n",
       "      <td>0.006753</td>\n",
       "      <td>-0.021451</td>\n",
       "      <td>0.006462</td>\n",
       "      <td>-0.021449</td>\n",
       "      <td>0.022938</td>\n",
       "      <td>-0.019557</td>\n",
       "      <td>0.022927</td>\n",
       "      <td>0.021565</td>\n",
       "      <td>0.004574</td>\n",
       "      <td>0.021666</td>\n",
       "      <td>-0.018942</td>\n",
       "      <td>0.018459</td>\n",
       "    </tr>\n",
       "    <tr>\n",
       "      <th>total_day_charge</th>\n",
       "      <td>0.006214</td>\n",
       "      <td>0.000776</td>\n",
       "      <td>1.000000</td>\n",
       "      <td>0.006753</td>\n",
       "      <td>1.000000</td>\n",
       "      <td>0.007050</td>\n",
       "      <td>0.015769</td>\n",
       "      <td>0.007036</td>\n",
       "      <td>0.004324</td>\n",
       "      <td>0.022972</td>\n",
       "      <td>0.004301</td>\n",
       "      <td>-0.010157</td>\n",
       "      <td>0.008032</td>\n",
       "      <td>-0.010094</td>\n",
       "      <td>-0.013427</td>\n",
       "      <td>0.205151</td>\n",
       "    </tr>\n",
       "    <tr>\n",
       "      <th>total_eve_minutes</th>\n",
       "      <td>-0.006757</td>\n",
       "      <td>0.017562</td>\n",
       "      <td>0.007043</td>\n",
       "      <td>-0.021451</td>\n",
       "      <td>0.007050</td>\n",
       "      <td>1.000000</td>\n",
       "      <td>-0.011430</td>\n",
       "      <td>1.000000</td>\n",
       "      <td>-0.012584</td>\n",
       "      <td>0.007586</td>\n",
       "      <td>-0.012593</td>\n",
       "      <td>-0.011035</td>\n",
       "      <td>0.002541</td>\n",
       "      <td>-0.011067</td>\n",
       "      <td>-0.012985</td>\n",
       "      <td>0.092796</td>\n",
       "    </tr>\n",
       "    <tr>\n",
       "      <th>total_eve_calls</th>\n",
       "      <td>0.019260</td>\n",
       "      <td>-0.005864</td>\n",
       "      <td>0.015769</td>\n",
       "      <td>0.006462</td>\n",
       "      <td>0.015769</td>\n",
       "      <td>-0.011430</td>\n",
       "      <td>1.000000</td>\n",
       "      <td>-0.011423</td>\n",
       "      <td>-0.002093</td>\n",
       "      <td>0.007710</td>\n",
       "      <td>-0.002056</td>\n",
       "      <td>0.008703</td>\n",
       "      <td>0.017434</td>\n",
       "      <td>0.008674</td>\n",
       "      <td>0.002423</td>\n",
       "      <td>0.009233</td>\n",
       "    </tr>\n",
       "    <tr>\n",
       "      <th>total_eve_charge</th>\n",
       "      <td>-0.006745</td>\n",
       "      <td>0.017578</td>\n",
       "      <td>0.007029</td>\n",
       "      <td>-0.021449</td>\n",
       "      <td>0.007036</td>\n",
       "      <td>1.000000</td>\n",
       "      <td>-0.011423</td>\n",
       "      <td>1.000000</td>\n",
       "      <td>-0.012592</td>\n",
       "      <td>0.007596</td>\n",
       "      <td>-0.012601</td>\n",
       "      <td>-0.011043</td>\n",
       "      <td>0.002541</td>\n",
       "      <td>-0.011074</td>\n",
       "      <td>-0.012987</td>\n",
       "      <td>0.092786</td>\n",
       "    </tr>\n",
       "    <tr>\n",
       "      <th>total_night_minutes</th>\n",
       "      <td>-0.008955</td>\n",
       "      <td>0.007681</td>\n",
       "      <td>0.004323</td>\n",
       "      <td>0.022938</td>\n",
       "      <td>0.004324</td>\n",
       "      <td>-0.012584</td>\n",
       "      <td>-0.002093</td>\n",
       "      <td>-0.012592</td>\n",
       "      <td>1.000000</td>\n",
       "      <td>0.011204</td>\n",
       "      <td>0.999999</td>\n",
       "      <td>-0.015207</td>\n",
       "      <td>-0.012353</td>\n",
       "      <td>-0.015180</td>\n",
       "      <td>-0.009288</td>\n",
       "      <td>0.035493</td>\n",
       "    </tr>\n",
       "    <tr>\n",
       "      <th>total_night_calls</th>\n",
       "      <td>-0.013176</td>\n",
       "      <td>0.007123</td>\n",
       "      <td>0.022972</td>\n",
       "      <td>-0.019557</td>\n",
       "      <td>0.022972</td>\n",
       "      <td>0.007586</td>\n",
       "      <td>0.007710</td>\n",
       "      <td>0.007596</td>\n",
       "      <td>0.011204</td>\n",
       "      <td>1.000000</td>\n",
       "      <td>0.011188</td>\n",
       "      <td>-0.013605</td>\n",
       "      <td>0.000305</td>\n",
       "      <td>-0.013630</td>\n",
       "      <td>-0.012802</td>\n",
       "      <td>0.006141</td>\n",
       "    </tr>\n",
       "    <tr>\n",
       "      <th>total_night_charge</th>\n",
       "      <td>-0.008960</td>\n",
       "      <td>0.007663</td>\n",
       "      <td>0.004300</td>\n",
       "      <td>0.022927</td>\n",
       "      <td>0.004301</td>\n",
       "      <td>-0.012593</td>\n",
       "      <td>-0.002056</td>\n",
       "      <td>-0.012601</td>\n",
       "      <td>0.999999</td>\n",
       "      <td>0.011188</td>\n",
       "      <td>1.000000</td>\n",
       "      <td>-0.015214</td>\n",
       "      <td>-0.012329</td>\n",
       "      <td>-0.015186</td>\n",
       "      <td>-0.009277</td>\n",
       "      <td>0.035496</td>\n",
       "    </tr>\n",
       "    <tr>\n",
       "      <th>total_intl_minutes</th>\n",
       "      <td>0.009514</td>\n",
       "      <td>0.002856</td>\n",
       "      <td>-0.010155</td>\n",
       "      <td>0.021565</td>\n",
       "      <td>-0.010157</td>\n",
       "      <td>-0.011035</td>\n",
       "      <td>0.008703</td>\n",
       "      <td>-0.011043</td>\n",
       "      <td>-0.015207</td>\n",
       "      <td>-0.013605</td>\n",
       "      <td>-0.015214</td>\n",
       "      <td>1.000000</td>\n",
       "      <td>0.032304</td>\n",
       "      <td>0.999993</td>\n",
       "      <td>-0.009640</td>\n",
       "      <td>0.068239</td>\n",
       "    </tr>\n",
       "    <tr>\n",
       "      <th>total_intl_calls</th>\n",
       "      <td>0.020661</td>\n",
       "      <td>0.013957</td>\n",
       "      <td>0.008033</td>\n",
       "      <td>0.004574</td>\n",
       "      <td>0.008032</td>\n",
       "      <td>0.002541</td>\n",
       "      <td>0.017434</td>\n",
       "      <td>0.002541</td>\n",
       "      <td>-0.012353</td>\n",
       "      <td>0.000305</td>\n",
       "      <td>-0.012329</td>\n",
       "      <td>0.032304</td>\n",
       "      <td>1.000000</td>\n",
       "      <td>0.032372</td>\n",
       "      <td>-0.017561</td>\n",
       "      <td>-0.052844</td>\n",
       "    </tr>\n",
       "    <tr>\n",
       "      <th>total_intl_charge</th>\n",
       "      <td>0.009546</td>\n",
       "      <td>0.002884</td>\n",
       "      <td>-0.010092</td>\n",
       "      <td>0.021666</td>\n",
       "      <td>-0.010094</td>\n",
       "      <td>-0.011067</td>\n",
       "      <td>0.008674</td>\n",
       "      <td>-0.011074</td>\n",
       "      <td>-0.015180</td>\n",
       "      <td>-0.013630</td>\n",
       "      <td>-0.015186</td>\n",
       "      <td>0.999993</td>\n",
       "      <td>0.032372</td>\n",
       "      <td>1.000000</td>\n",
       "      <td>-0.009675</td>\n",
       "      <td>0.068259</td>\n",
       "    </tr>\n",
       "    <tr>\n",
       "      <th>customer_service_calls</th>\n",
       "      <td>-0.003796</td>\n",
       "      <td>-0.013263</td>\n",
       "      <td>-0.013423</td>\n",
       "      <td>-0.018942</td>\n",
       "      <td>-0.013427</td>\n",
       "      <td>-0.012985</td>\n",
       "      <td>0.002423</td>\n",
       "      <td>-0.012987</td>\n",
       "      <td>-0.009288</td>\n",
       "      <td>-0.012802</td>\n",
       "      <td>-0.009277</td>\n",
       "      <td>-0.009640</td>\n",
       "      <td>-0.017561</td>\n",
       "      <td>-0.009675</td>\n",
       "      <td>1.000000</td>\n",
       "      <td>0.208750</td>\n",
       "    </tr>\n",
       "    <tr>\n",
       "      <th>churn</th>\n",
       "      <td>0.016541</td>\n",
       "      <td>-0.089728</td>\n",
       "      <td>0.205151</td>\n",
       "      <td>0.018459</td>\n",
       "      <td>0.205151</td>\n",
       "      <td>0.092796</td>\n",
       "      <td>0.009233</td>\n",
       "      <td>0.092786</td>\n",
       "      <td>0.035493</td>\n",
       "      <td>0.006141</td>\n",
       "      <td>0.035496</td>\n",
       "      <td>0.068239</td>\n",
       "      <td>-0.052844</td>\n",
       "      <td>0.068259</td>\n",
       "      <td>0.208750</td>\n",
       "      <td>1.000000</td>\n",
       "    </tr>\n",
       "  </tbody>\n",
       "</table>\n",
       "</div>"
      ],
      "text/plain": [
       "                        account_length  number_vmail_messages  \\\n",
       "account_length                1.000000              -0.004628   \n",
       "number_vmail_messages        -0.004628               1.000000   \n",
       "total_day_minutes             0.006216               0.000778   \n",
       "total_day_calls               0.038470              -0.009548   \n",
       "total_day_charge              0.006214               0.000776   \n",
       "total_eve_minutes            -0.006757               0.017562   \n",
       "total_eve_calls               0.019260              -0.005864   \n",
       "total_eve_charge             -0.006745               0.017578   \n",
       "total_night_minutes          -0.008955               0.007681   \n",
       "total_night_calls            -0.013176               0.007123   \n",
       "total_night_charge           -0.008960               0.007663   \n",
       "total_intl_minutes            0.009514               0.002856   \n",
       "total_intl_calls              0.020661               0.013957   \n",
       "total_intl_charge             0.009546               0.002884   \n",
       "customer_service_calls       -0.003796              -0.013263   \n",
       "churn                         0.016541              -0.089728   \n",
       "\n",
       "                        total_day_minutes  total_day_calls  total_day_charge  \\\n",
       "account_length                   0.006216         0.038470          0.006214   \n",
       "number_vmail_messages            0.000778        -0.009548          0.000776   \n",
       "total_day_minutes                1.000000         0.006750          1.000000   \n",
       "total_day_calls                  0.006750         1.000000          0.006753   \n",
       "total_day_charge                 1.000000         0.006753          1.000000   \n",
       "total_eve_minutes                0.007043        -0.021451          0.007050   \n",
       "total_eve_calls                  0.015769         0.006462          0.015769   \n",
       "total_eve_charge                 0.007029        -0.021449          0.007036   \n",
       "total_night_minutes              0.004323         0.022938          0.004324   \n",
       "total_night_calls                0.022972        -0.019557          0.022972   \n",
       "total_night_charge               0.004300         0.022927          0.004301   \n",
       "total_intl_minutes              -0.010155         0.021565         -0.010157   \n",
       "total_intl_calls                 0.008033         0.004574          0.008032   \n",
       "total_intl_charge               -0.010092         0.021666         -0.010094   \n",
       "customer_service_calls          -0.013423        -0.018942         -0.013427   \n",
       "churn                            0.205151         0.018459          0.205151   \n",
       "\n",
       "                        total_eve_minutes  total_eve_calls  total_eve_charge  \\\n",
       "account_length                  -0.006757         0.019260         -0.006745   \n",
       "number_vmail_messages            0.017562        -0.005864          0.017578   \n",
       "total_day_minutes                0.007043         0.015769          0.007029   \n",
       "total_day_calls                 -0.021451         0.006462         -0.021449   \n",
       "total_day_charge                 0.007050         0.015769          0.007036   \n",
       "total_eve_minutes                1.000000        -0.011430          1.000000   \n",
       "total_eve_calls                 -0.011430         1.000000         -0.011423   \n",
       "total_eve_charge                 1.000000        -0.011423          1.000000   \n",
       "total_night_minutes             -0.012584        -0.002093         -0.012592   \n",
       "total_night_calls                0.007586         0.007710          0.007596   \n",
       "total_night_charge              -0.012593        -0.002056         -0.012601   \n",
       "total_intl_minutes              -0.011035         0.008703         -0.011043   \n",
       "total_intl_calls                 0.002541         0.017434          0.002541   \n",
       "total_intl_charge               -0.011067         0.008674         -0.011074   \n",
       "customer_service_calls          -0.012985         0.002423         -0.012987   \n",
       "churn                            0.092796         0.009233          0.092786   \n",
       "\n",
       "                        total_night_minutes  total_night_calls  \\\n",
       "account_length                    -0.008955          -0.013176   \n",
       "number_vmail_messages              0.007681           0.007123   \n",
       "total_day_minutes                  0.004323           0.022972   \n",
       "total_day_calls                    0.022938          -0.019557   \n",
       "total_day_charge                   0.004324           0.022972   \n",
       "total_eve_minutes                 -0.012584           0.007586   \n",
       "total_eve_calls                   -0.002093           0.007710   \n",
       "total_eve_charge                  -0.012592           0.007596   \n",
       "total_night_minutes                1.000000           0.011204   \n",
       "total_night_calls                  0.011204           1.000000   \n",
       "total_night_charge                 0.999999           0.011188   \n",
       "total_intl_minutes                -0.015207          -0.013605   \n",
       "total_intl_calls                  -0.012353           0.000305   \n",
       "total_intl_charge                 -0.015180          -0.013630   \n",
       "customer_service_calls            -0.009288          -0.012802   \n",
       "churn                              0.035493           0.006141   \n",
       "\n",
       "                        total_night_charge  total_intl_minutes  \\\n",
       "account_length                   -0.008960            0.009514   \n",
       "number_vmail_messages             0.007663            0.002856   \n",
       "total_day_minutes                 0.004300           -0.010155   \n",
       "total_day_calls                   0.022927            0.021565   \n",
       "total_day_charge                  0.004301           -0.010157   \n",
       "total_eve_minutes                -0.012593           -0.011035   \n",
       "total_eve_calls                  -0.002056            0.008703   \n",
       "total_eve_charge                 -0.012601           -0.011043   \n",
       "total_night_minutes               0.999999           -0.015207   \n",
       "total_night_calls                 0.011188           -0.013605   \n",
       "total_night_charge                1.000000           -0.015214   \n",
       "total_intl_minutes               -0.015214            1.000000   \n",
       "total_intl_calls                 -0.012329            0.032304   \n",
       "total_intl_charge                -0.015186            0.999993   \n",
       "customer_service_calls           -0.009277           -0.009640   \n",
       "churn                             0.035496            0.068239   \n",
       "\n",
       "                        total_intl_calls  total_intl_charge  \\\n",
       "account_length                  0.020661           0.009546   \n",
       "number_vmail_messages           0.013957           0.002884   \n",
       "total_day_minutes               0.008033          -0.010092   \n",
       "total_day_calls                 0.004574           0.021666   \n",
       "total_day_charge                0.008032          -0.010094   \n",
       "total_eve_minutes               0.002541          -0.011067   \n",
       "total_eve_calls                 0.017434           0.008674   \n",
       "total_eve_charge                0.002541          -0.011074   \n",
       "total_night_minutes            -0.012353          -0.015180   \n",
       "total_night_calls               0.000305          -0.013630   \n",
       "total_night_charge             -0.012329          -0.015186   \n",
       "total_intl_minutes              0.032304           0.999993   \n",
       "total_intl_calls                1.000000           0.032372   \n",
       "total_intl_charge               0.032372           1.000000   \n",
       "customer_service_calls         -0.017561          -0.009675   \n",
       "churn                          -0.052844           0.068259   \n",
       "\n",
       "                        customer_service_calls     churn  \n",
       "account_length                       -0.003796  0.016541  \n",
       "number_vmail_messages                -0.013263 -0.089728  \n",
       "total_day_minutes                    -0.013423  0.205151  \n",
       "total_day_calls                      -0.018942  0.018459  \n",
       "total_day_charge                     -0.013427  0.205151  \n",
       "total_eve_minutes                    -0.012985  0.092796  \n",
       "total_eve_calls                       0.002423  0.009233  \n",
       "total_eve_charge                     -0.012987  0.092786  \n",
       "total_night_minutes                  -0.009288  0.035493  \n",
       "total_night_calls                    -0.012802  0.006141  \n",
       "total_night_charge                   -0.009277  0.035496  \n",
       "total_intl_minutes                   -0.009640  0.068239  \n",
       "total_intl_calls                     -0.017561 -0.052844  \n",
       "total_intl_charge                    -0.009675  0.068259  \n",
       "customer_service_calls                1.000000  0.208750  \n",
       "churn                                 0.208750  1.000000  "
      ]
     },
     "execution_count": 23,
     "metadata": {},
     "output_type": "execute_result"
    }
   ],
   "source": [
    "df.corr()"
   ]
  },
  {
   "cell_type": "code",
   "execution_count": 24,
   "metadata": {},
   "outputs": [
    {
     "data": {
      "image/png": "[encoded data removed]",
      "text/plain": [
       "<Figure size 432x288 with 2 Axes>"
      ]
     },
     "metadata": {},
     "output_type": "display_data"
    }
   ],
   "source": [
    "#Create heatmap to check for highly correlated features.\n",
    "sns.heatmap(df.corr(), center=0);"
   ]
  },
  {
   "cell_type": "markdown",
   "metadata": {},
   "source": [
    " -  total_day_charge, total_day_calls, and total_day_minutes are highly correlated.\n",
    "\n",
    " - total_eve_charge, total_eve_calls, and total_eve_minutes are highly correlated.\n",
    "\n",
    " - total_night_charge, total_night_calls, and total_night_minutes are highly correlated.\n",
    "\n",
    " - total_intl_charge, total_intl_calls, and total_intl_minutes are highly correlated.\n",
    " \n",
    " > - Will need to seperate these features when building models to prevent multicollinearity."
   ]
  },
  {
   "cell_type": "markdown",
   "metadata": {},
   "source": [
    "## Drop Columns"
   ]
  },
  {
   "cell_type": "code",
   "execution_count": 25,
   "metadata": {},
   "outputs": [
    {
     "name": "stdout",
     "output_type": "stream",
     "text": [
      "<class 'pandas.core.frame.DataFrame'>\n",
      "RangeIndex: 3333 entries, 0 to 3332\n",
      "Data columns (total 19 columns):\n",
      " #   Column                  Non-Null Count  Dtype  \n",
      "---  ------                  --------------  -----  \n",
      " 0   state                   3333 non-null   object \n",
      " 1   account_length          3333 non-null   int64  \n",
      " 2   international_plan      3333 non-null   object \n",
      " 3   voice_mail_plan         3333 non-null   object \n",
      " 4   number_vmail_messages   3333 non-null   int64  \n",
      " 5   total_day_minutes       3333 non-null   float64\n",
      " 6   total_day_calls         3333 non-null   int64  \n",
      " 7   total_day_charge        3333 non-null   float64\n",
      " 8   total_eve_minutes       3333 non-null   float64\n",
      " 9   total_eve_calls         3333 non-null   int64  \n",
      " 10  total_eve_charge        3333 non-null   float64\n",
      " 11  total_night_minutes     3333 non-null   float64\n",
      " 12  total_night_calls       3333 non-null   int64  \n",
      " 13  total_night_charge      3333 non-null   float64\n",
      " 14  total_intl_minutes      3333 non-null   float64\n",
      " 15  total_intl_calls        3333 non-null   int64  \n",
      " 16  total_intl_charge       3333 non-null   float64\n",
      " 17  customer_service_calls  3333 non-null   int64  \n",
      " 18  churn                   3333 non-null   bool   \n",
      "dtypes: bool(1), float64(8), int64(7), object(3)\n",
      "memory usage: 472.1+ KB\n"
     ]
    }
   ],
   "source": [
    "#Drop area_code and phone_number from the data\n",
    "df_filtered = df.drop(['area_code', 'phone_number'], axis=1)\n",
    "df_filtered.info()"
   ]
  },
  {
   "cell_type": "markdown",
   "metadata": {},
   "source": [
    " - Based on the analysis above I wouldn't expect either area code or phone number to very relevant in making any predictions regarding churn."
   ]
  },
  {
   "cell_type": "markdown",
   "metadata": {},
   "source": [
    "## Feature Engineering"
   ]
  },
  {
   "cell_type": "code",
   "execution_count": 26,
   "metadata": {},
   "outputs": [
    {
     "data": {
      "text/html": [
       "<div>\n",
       "<style scoped>\n",
       "    .dataframe tbody tr th:only-of-type {\n",
       "        vertical-align: middle;\n",
       "    }\n",
       "\n",
       "    .dataframe tbody tr th {\n",
       "        vertical-align: top;\n",
       "    }\n",
       "\n",
       "    .dataframe thead th {\n",
       "        text-align: right;\n",
       "    }\n",
       "</style>\n",
       "<table border=\"1\" class=\"dataframe\">\n",
       "  <thead>\n",
       "    <tr style=\"text-align: right;\">\n",
       "      <th></th>\n",
       "      <th>state</th>\n",
       "      <th>account_length</th>\n",
       "      <th>international_plan</th>\n",
       "      <th>voice_mail_plan</th>\n",
       "      <th>number_vmail_messages</th>\n",
       "      <th>total_day_minutes</th>\n",
       "      <th>total_day_calls</th>\n",
       "      <th>total_day_charge</th>\n",
       "      <th>total_eve_minutes</th>\n",
       "      <th>total_eve_calls</th>\n",
       "      <th>total_eve_charge</th>\n",
       "      <th>total_night_minutes</th>\n",
       "      <th>total_night_calls</th>\n",
       "      <th>total_night_charge</th>\n",
       "      <th>total_intl_minutes</th>\n",
       "      <th>total_intl_calls</th>\n",
       "      <th>total_intl_charge</th>\n",
       "      <th>customer_service_calls</th>\n",
       "      <th>churn</th>\n",
       "      <th>total_charge</th>\n",
       "    </tr>\n",
       "  </thead>\n",
       "  <tbody>\n",
       "    <tr>\n",
       "      <th>0</th>\n",
       "      <td>KS</td>\n",
       "      <td>128</td>\n",
       "      <td>no</td>\n",
       "      <td>yes</td>\n",
       "      <td>25</td>\n",
       "      <td>265.1</td>\n",
       "      <td>110</td>\n",
       "      <td>45.07</td>\n",
       "      <td>197.4</td>\n",
       "      <td>99</td>\n",
       "      <td>16.78</td>\n",
       "      <td>244.7</td>\n",
       "      <td>91</td>\n",
       "      <td>11.01</td>\n",
       "      <td>10.0</td>\n",
       "      <td>3</td>\n",
       "      <td>2.70</td>\n",
       "      <td>1</td>\n",
       "      <td>False</td>\n",
       "      <td>75.56</td>\n",
       "    </tr>\n",
       "    <tr>\n",
       "      <th>1</th>\n",
       "      <td>OH</td>\n",
       "      <td>107</td>\n",
       "      <td>no</td>\n",
       "      <td>yes</td>\n",
       "      <td>26</td>\n",
       "      <td>161.6</td>\n",
       "      <td>123</td>\n",
       "      <td>27.47</td>\n",
       "      <td>195.5</td>\n",
       "      <td>103</td>\n",
       "      <td>16.62</td>\n",
       "      <td>254.4</td>\n",
       "      <td>103</td>\n",
       "      <td>11.45</td>\n",
       "      <td>13.7</td>\n",
       "      <td>3</td>\n",
       "      <td>3.70</td>\n",
       "      <td>1</td>\n",
       "      <td>False</td>\n",
       "      <td>59.24</td>\n",
       "    </tr>\n",
       "    <tr>\n",
       "      <th>2</th>\n",
       "      <td>NJ</td>\n",
       "      <td>137</td>\n",
       "      <td>no</td>\n",
       "      <td>no</td>\n",
       "      <td>0</td>\n",
       "      <td>243.4</td>\n",
       "      <td>114</td>\n",
       "      <td>41.38</td>\n",
       "      <td>121.2</td>\n",
       "      <td>110</td>\n",
       "      <td>10.30</td>\n",
       "      <td>162.6</td>\n",
       "      <td>104</td>\n",
       "      <td>7.32</td>\n",
       "      <td>12.2</td>\n",
       "      <td>5</td>\n",
       "      <td>3.29</td>\n",
       "      <td>0</td>\n",
       "      <td>False</td>\n",
       "      <td>62.29</td>\n",
       "    </tr>\n",
       "    <tr>\n",
       "      <th>3</th>\n",
       "      <td>OH</td>\n",
       "      <td>84</td>\n",
       "      <td>yes</td>\n",
       "      <td>no</td>\n",
       "      <td>0</td>\n",
       "      <td>299.4</td>\n",
       "      <td>71</td>\n",
       "      <td>50.90</td>\n",
       "      <td>61.9</td>\n",
       "      <td>88</td>\n",
       "      <td>5.26</td>\n",
       "      <td>196.9</td>\n",
       "      <td>89</td>\n",
       "      <td>8.86</td>\n",
       "      <td>6.6</td>\n",
       "      <td>7</td>\n",
       "      <td>1.78</td>\n",
       "      <td>2</td>\n",
       "      <td>False</td>\n",
       "      <td>66.80</td>\n",
       "    </tr>\n",
       "    <tr>\n",
       "      <th>4</th>\n",
       "      <td>OK</td>\n",
       "      <td>75</td>\n",
       "      <td>yes</td>\n",
       "      <td>no</td>\n",
       "      <td>0</td>\n",
       "      <td>166.7</td>\n",
       "      <td>113</td>\n",
       "      <td>28.34</td>\n",
       "      <td>148.3</td>\n",
       "      <td>122</td>\n",
       "      <td>12.61</td>\n",
       "      <td>186.9</td>\n",
       "      <td>121</td>\n",
       "      <td>8.41</td>\n",
       "      <td>10.1</td>\n",
       "      <td>3</td>\n",
       "      <td>2.73</td>\n",
       "      <td>3</td>\n",
       "      <td>False</td>\n",
       "      <td>52.09</td>\n",
       "    </tr>\n",
       "  </tbody>\n",
       "</table>\n",
       "</div>"
      ],
      "text/plain": [
       "  state  account_length international_plan voice_mail_plan  \\\n",
       "0    KS             128                 no             yes   \n",
       "1    OH             107                 no             yes   \n",
       "2    NJ             137                 no              no   \n",
       "3    OH              84                yes              no   \n",
       "4    OK              75                yes              no   \n",
       "\n",
       "   number_vmail_messages  total_day_minutes  total_day_calls  \\\n",
       "0                     25              265.1              110   \n",
       "1                     26              161.6              123   \n",
       "2                      0              243.4              114   \n",
       "3                      0              299.4               71   \n",
       "4                      0              166.7              113   \n",
       "\n",
       "   total_day_charge  total_eve_minutes  total_eve_calls  total_eve_charge  \\\n",
       "0             45.07              197.4               99             16.78   \n",
       "1             27.47              195.5              103             16.62   \n",
       "2             41.38              121.2              110             10.30   \n",
       "3             50.90               61.9               88              5.26   \n",
       "4             28.34              148.3              122             12.61   \n",
       "\n",
       "   total_night_minutes  total_night_calls  total_night_charge  \\\n",
       "0                244.7                 91               11.01   \n",
       "1                254.4                103               11.45   \n",
       "2                162.6                104                7.32   \n",
       "3                196.9                 89                8.86   \n",
       "4                186.9                121                8.41   \n",
       "\n",
       "   total_intl_minutes  total_intl_calls  total_intl_charge  \\\n",
       "0                10.0                 3               2.70   \n",
       "1                13.7                 3               3.70   \n",
       "2                12.2                 5               3.29   \n",
       "3                 6.6                 7               1.78   \n",
       "4                10.1                 3               2.73   \n",
       "\n",
       "   customer_service_calls  churn  total_charge  \n",
       "0                       1  False         75.56  \n",
       "1                       1  False         59.24  \n",
       "2                       0  False         62.29  \n",
       "3                       2  False         66.80  \n",
       "4                       3  False         52.09  "
      ]
     },
     "execution_count": 26,
     "metadata": {},
     "output_type": "execute_result"
    }
   ],
   "source": [
    "#Create new feature adding together all 'charge' categories for a new 'total charge' column\n",
    "total_charge = df_filtered['total_day_charge'] + df_filtered['total_eve_charge'] + df_filtered['total_night_charge'] + df_filtered['total_intl_charge']\n",
    "df_filtered['total_charge'] = total_charge\n",
    "df_filtered.head()"
   ]
  },
  {
   "cell_type": "markdown",
   "metadata": {},
   "source": [
    " - Based on the analysis from the pivot table above it seems customers with true-churn tend to have higher charges on their accounts. Adding all the charge categores together will create a new category of the total charge of the account. I would expect this feature to play a significant role in determing churn, as it would make sense that customers with higher total charges would be interested in pursuing a different wireless plan to reduce costs."
   ]
  },
  {
   "cell_type": "code",
   "execution_count": 27,
   "metadata": {},
   "outputs": [
    {
     "data": {
      "text/html": [
       "<div>\n",
       "<style scoped>\n",
       "    .dataframe tbody tr th:only-of-type {\n",
       "        vertical-align: middle;\n",
       "    }\n",
       "\n",
       "    .dataframe tbody tr th {\n",
       "        vertical-align: top;\n",
       "    }\n",
       "\n",
       "    .dataframe thead th {\n",
       "        text-align: right;\n",
       "    }\n",
       "</style>\n",
       "<table border=\"1\" class=\"dataframe\">\n",
       "  <thead>\n",
       "    <tr style=\"text-align: right;\">\n",
       "      <th></th>\n",
       "      <th>total_charge</th>\n",
       "    </tr>\n",
       "    <tr>\n",
       "      <th>churn</th>\n",
       "      <th></th>\n",
       "    </tr>\n",
       "  </thead>\n",
       "  <tbody>\n",
       "    <tr>\n",
       "      <th>False</th>\n",
       "      <td>58.448807</td>\n",
       "    </tr>\n",
       "    <tr>\n",
       "      <th>True</th>\n",
       "      <td>65.355963</td>\n",
       "    </tr>\n",
       "  </tbody>\n",
       "</table>\n",
       "</div>"
      ],
      "text/plain": [
       "       total_charge\n",
       "churn              \n",
       "False     58.448807\n",
       "True      65.355963"
      ]
     },
     "execution_count": 27,
     "metadata": {},
     "output_type": "execute_result"
    }
   ],
   "source": [
    "#Pivot tabel showing new 'total charge' feature with average total charge accross churn\n",
    "pd.pivot_table(df_filtered, index='churn', values='total_charge')"
   ]
  },
  {
   "cell_type": "markdown",
   "metadata": {},
   "source": [
    " - As predicted higher the true-churn customers have a significantly higher total charge then the false-churn customers."
   ]
  },
  {
   "cell_type": "code",
   "execution_count": 28,
   "metadata": {},
   "outputs": [
    {
     "data": {
      "image/png": "[encoded data removed]",
      "text/plain": [
       "<Figure size 432x288 with 2 Axes>"
      ]
     },
     "metadata": {},
     "output_type": "display_data"
    }
   ],
   "source": [
    "#Recheck heatmap with newly added 'total charge' feature\n",
    "sns.heatmap(df_filtered.corr(), center=0);"
   ]
  },
  {
   "cell_type": "markdown",
   "metadata": {},
   "source": [
    " - Based on the heatmap will need to seperate 'total charge' from 'total day minutes' and 'total day charge' in the models in order to prevent multicollinearity.  "
   ]
  },
  {
   "cell_type": "markdown",
   "metadata": {},
   "source": [
    "## Data Exploration Summary"
   ]
  },
  {
   "cell_type": "markdown",
   "metadata": {},
   "source": [
    " - Based on the anaysis above, I would expect the following three features to play a fairly important role in predicting churn:\n",
    "     \n",
    "  - Total Charge\n",
    "  - Customer Service Calls\n",
    "  - Voice Mail Plan"
   ]
  },
  {
   "cell_type": "markdown",
   "metadata": {},
   "source": [
    "## Split Data into Training and Testing sets"
   ]
  },
  {
   "cell_type": "code",
   "execution_count": 29,
   "metadata": {},
   "outputs": [],
   "source": [
    "#Seperate data into X and y for analysis\n",
    "X = df_filtered.drop(['churn'], axis=1)\n",
    "y = df_filtered['churn']"
   ]
  },
  {
   "cell_type": "code",
   "execution_count": 30,
   "metadata": {},
   "outputs": [],
   "source": [
    "#Perform train/test split on data in order to check for overfitting within the models\n",
    "X_train, X_test, y_train, y_test = train_test_split(X, y, random_state=42)"
   ]
  },
  {
   "cell_type": "code",
   "execution_count": 31,
   "metadata": {},
   "outputs": [
    {
     "data": {
      "text/plain": [
       "((2499, 19), (2499,))"
      ]
     },
     "execution_count": 31,
     "metadata": {},
     "output_type": "execute_result"
    }
   ],
   "source": [
    "X_train.shape, y_train.shape"
   ]
  },
  {
   "cell_type": "code",
   "execution_count": 32,
   "metadata": {},
   "outputs": [
    {
     "data": {
      "text/plain": [
       "((834, 19), (834,))"
      ]
     },
     "execution_count": 32,
     "metadata": {},
     "output_type": "execute_result"
    }
   ],
   "source": [
    "X_test.shape, y_test.shape"
   ]
  },
  {
   "cell_type": "markdown",
   "metadata": {},
   "source": [
    "## Label Encoding"
   ]
  },
  {
   "cell_type": "code",
   "execution_count": 33,
   "metadata": {},
   "outputs": [],
   "source": [
    "#Label encode y in order to make it a numeric value for easier model interpretation\n",
    "labelencoder = LabelEncoder()"
   ]
  },
  {
   "cell_type": "code",
   "execution_count": 34,
   "metadata": {},
   "outputs": [],
   "source": [
    "labelencoder.fit(y_train)\n",
    "y_train = labelencoder.transform(y_train)"
   ]
  },
  {
   "cell_type": "code",
   "execution_count": 35,
   "metadata": {},
   "outputs": [],
   "source": [
    "y_test = labelencoder.transform(y_test)"
   ]
  },
  {
   "cell_type": "markdown",
   "metadata": {},
   "source": [
    "## Convert Categorical Features"
   ]
  },
  {
   "cell_type": "code",
   "execution_count": 36,
   "metadata": {},
   "outputs": [
    {
     "name": "stderr",
     "output_type": "stream",
     "text": [
      "/Users/justing/opt/anaconda3/envs/learn-env/lib/python3.8/site-packages/pandas/core/frame.py:4163: SettingWithCopyWarning: \n",
      "A value is trying to be set on a copy of a slice from a DataFrame\n",
      "\n",
      "See the caveats in the documentation: https://pandas.pydata.org/pandas-docs/stable/user_guide/indexing.html#returning-a-view-versus-a-copy\n",
      "  return super().drop(\n"
     ]
    },
    {
     "data": {
      "text/html": [
       "<div>\n",
       "<style scoped>\n",
       "    .dataframe tbody tr th:only-of-type {\n",
       "        vertical-align: middle;\n",
       "    }\n",
       "\n",
       "    .dataframe tbody tr th {\n",
       "        vertical-align: top;\n",
       "    }\n",
       "\n",
       "    .dataframe thead th {\n",
       "        text-align: right;\n",
       "    }\n",
       "</style>\n",
       "<table border=\"1\" class=\"dataframe\">\n",
       "  <thead>\n",
       "    <tr style=\"text-align: right;\">\n",
       "      <th></th>\n",
       "      <th>state</th>\n",
       "      <th>account_length</th>\n",
       "      <th>number_vmail_messages</th>\n",
       "      <th>total_day_minutes</th>\n",
       "      <th>total_day_calls</th>\n",
       "      <th>total_day_charge</th>\n",
       "      <th>total_eve_minutes</th>\n",
       "      <th>total_eve_calls</th>\n",
       "      <th>total_eve_charge</th>\n",
       "      <th>total_night_minutes</th>\n",
       "      <th>...</th>\n",
       "      <th>total_night_charge</th>\n",
       "      <th>total_intl_minutes</th>\n",
       "      <th>total_intl_calls</th>\n",
       "      <th>total_intl_charge</th>\n",
       "      <th>customer_service_calls</th>\n",
       "      <th>total_charge</th>\n",
       "      <th>international_plan_no</th>\n",
       "      <th>international_plan_yes</th>\n",
       "      <th>voice_mail_plan_no</th>\n",
       "      <th>voice_mail_plan_yes</th>\n",
       "    </tr>\n",
       "  </thead>\n",
       "  <tbody>\n",
       "    <tr>\n",
       "      <th>0</th>\n",
       "      <td>MD</td>\n",
       "      <td>45</td>\n",
       "      <td>0</td>\n",
       "      <td>78.2</td>\n",
       "      <td>127</td>\n",
       "      <td>13.29</td>\n",
       "      <td>253.4</td>\n",
       "      <td>108</td>\n",
       "      <td>21.54</td>\n",
       "      <td>255.0</td>\n",
       "      <td>...</td>\n",
       "      <td>11.48</td>\n",
       "      <td>18.0</td>\n",
       "      <td>3</td>\n",
       "      <td>4.86</td>\n",
       "      <td>1</td>\n",
       "      <td>51.17</td>\n",
       "      <td>1.0</td>\n",
       "      <td>0.0</td>\n",
       "      <td>1.0</td>\n",
       "      <td>0.0</td>\n",
       "    </tr>\n",
       "    <tr>\n",
       "      <th>1</th>\n",
       "      <td>DE</td>\n",
       "      <td>115</td>\n",
       "      <td>0</td>\n",
       "      <td>195.9</td>\n",
       "      <td>111</td>\n",
       "      <td>33.30</td>\n",
       "      <td>227.0</td>\n",
       "      <td>108</td>\n",
       "      <td>19.30</td>\n",
       "      <td>313.2</td>\n",
       "      <td>...</td>\n",
       "      <td>14.09</td>\n",
       "      <td>13.2</td>\n",
       "      <td>1</td>\n",
       "      <td>3.56</td>\n",
       "      <td>2</td>\n",
       "      <td>70.25</td>\n",
       "      <td>1.0</td>\n",
       "      <td>0.0</td>\n",
       "      <td>1.0</td>\n",
       "      <td>0.0</td>\n",
       "    </tr>\n",
       "    <tr>\n",
       "      <th>2</th>\n",
       "      <td>OK</td>\n",
       "      <td>121</td>\n",
       "      <td>31</td>\n",
       "      <td>237.1</td>\n",
       "      <td>63</td>\n",
       "      <td>40.31</td>\n",
       "      <td>205.6</td>\n",
       "      <td>117</td>\n",
       "      <td>17.48</td>\n",
       "      <td>196.7</td>\n",
       "      <td>...</td>\n",
       "      <td>8.85</td>\n",
       "      <td>10.1</td>\n",
       "      <td>5</td>\n",
       "      <td>2.73</td>\n",
       "      <td>4</td>\n",
       "      <td>69.37</td>\n",
       "      <td>1.0</td>\n",
       "      <td>0.0</td>\n",
       "      <td>0.0</td>\n",
       "      <td>1.0</td>\n",
       "    </tr>\n",
       "    <tr>\n",
       "      <th>3</th>\n",
       "      <td>RI</td>\n",
       "      <td>180</td>\n",
       "      <td>0</td>\n",
       "      <td>143.3</td>\n",
       "      <td>134</td>\n",
       "      <td>24.36</td>\n",
       "      <td>180.5</td>\n",
       "      <td>113</td>\n",
       "      <td>15.34</td>\n",
       "      <td>184.2</td>\n",
       "      <td>...</td>\n",
       "      <td>8.29</td>\n",
       "      <td>10.1</td>\n",
       "      <td>4</td>\n",
       "      <td>2.73</td>\n",
       "      <td>1</td>\n",
       "      <td>50.72</td>\n",
       "      <td>1.0</td>\n",
       "      <td>0.0</td>\n",
       "      <td>1.0</td>\n",
       "      <td>0.0</td>\n",
       "    </tr>\n",
       "    <tr>\n",
       "      <th>4</th>\n",
       "      <td>OR</td>\n",
       "      <td>112</td>\n",
       "      <td>0</td>\n",
       "      <td>206.2</td>\n",
       "      <td>122</td>\n",
       "      <td>35.05</td>\n",
       "      <td>164.5</td>\n",
       "      <td>94</td>\n",
       "      <td>13.98</td>\n",
       "      <td>140.3</td>\n",
       "      <td>...</td>\n",
       "      <td>6.31</td>\n",
       "      <td>12.6</td>\n",
       "      <td>7</td>\n",
       "      <td>3.40</td>\n",
       "      <td>3</td>\n",
       "      <td>58.74</td>\n",
       "      <td>1.0</td>\n",
       "      <td>0.0</td>\n",
       "      <td>1.0</td>\n",
       "      <td>0.0</td>\n",
       "    </tr>\n",
       "  </tbody>\n",
       "</table>\n",
       "<p>5 rows × 21 columns</p>\n",
       "</div>"
      ],
      "text/plain": [
       "  state  account_length  number_vmail_messages  total_day_minutes  \\\n",
       "0    MD              45                      0               78.2   \n",
       "1    DE             115                      0              195.9   \n",
       "2    OK             121                     31              237.1   \n",
       "3    RI             180                      0              143.3   \n",
       "4    OR             112                      0              206.2   \n",
       "\n",
       "   total_day_calls  total_day_charge  total_eve_minutes  total_eve_calls  \\\n",
       "0              127             13.29              253.4              108   \n",
       "1              111             33.30              227.0              108   \n",
       "2               63             40.31              205.6              117   \n",
       "3              134             24.36              180.5              113   \n",
       "4              122             35.05              164.5               94   \n",
       "\n",
       "   total_eve_charge  total_night_minutes  ...  total_night_charge  \\\n",
       "0             21.54                255.0  ...               11.48   \n",
       "1             19.30                313.2  ...               14.09   \n",
       "2             17.48                196.7  ...                8.85   \n",
       "3             15.34                184.2  ...                8.29   \n",
       "4             13.98                140.3  ...                6.31   \n",
       "\n",
       "   total_intl_minutes  total_intl_calls  total_intl_charge  \\\n",
       "0                18.0                 3               4.86   \n",
       "1                13.2                 1               3.56   \n",
       "2                10.1                 5               2.73   \n",
       "3                10.1                 4               2.73   \n",
       "4                12.6                 7               3.40   \n",
       "\n",
       "   customer_service_calls  total_charge  international_plan_no  \\\n",
       "0                       1         51.17                    1.0   \n",
       "1                       2         70.25                    1.0   \n",
       "2                       4         69.37                    1.0   \n",
       "3                       1         50.72                    1.0   \n",
       "4                       3         58.74                    1.0   \n",
       "\n",
       "   international_plan_yes  voice_mail_plan_no  voice_mail_plan_yes  \n",
       "0                     0.0                 1.0                  0.0  \n",
       "1                     0.0                 1.0                  0.0  \n",
       "2                     0.0                 0.0                  1.0  \n",
       "3                     0.0                 1.0                  0.0  \n",
       "4                     0.0                 1.0                  0.0  \n",
       "\n",
       "[5 rows x 21 columns]"
      ]
     },
     "execution_count": 36,
     "metadata": {},
     "output_type": "execute_result"
    }
   ],
   "source": [
    "ohe = OneHotEncoder(handle_unknown='ignore',sparse=False)\n",
    "ohe_train_df = pd.DataFrame(ohe.fit_transform(X_train[['international_plan', 'voice_mail_plan']]))\n",
    "ohe_train_df.columns = ohe.get_feature_names(['international_plan', 'voice_mail_plan'])\n",
    "X_train.drop(['international_plan', 'voice_mail_plan'] ,axis=1, inplace=True)\n",
    "X_train = pd.concat([X_train.reset_index(drop=True),pd.DataFrame(ohe_train_df).reset_index(drop=True)], \n",
    "    axis=1)\n",
    "X_train.head()"
   ]
  },
  {
   "cell_type": "code",
   "execution_count": 37,
   "metadata": {},
   "outputs": [
    {
     "data": {
      "text/plain": [
       "Index(['state', 'account_length', 'number_vmail_messages', 'total_day_minutes',\n",
       "       'total_day_calls', 'total_day_charge', 'total_eve_minutes',\n",
       "       'total_eve_calls', 'total_eve_charge', 'total_night_minutes',\n",
       "       'total_night_calls', 'total_night_charge', 'total_intl_minutes',\n",
       "       'total_intl_calls', 'total_intl_charge', 'customer_service_calls',\n",
       "       'total_charge', 'international_plan_no', 'international_plan_yes',\n",
       "       'voice_mail_plan_no', 'voice_mail_plan_yes'],\n",
       "      dtype='object')"
      ]
     },
     "execution_count": 37,
     "metadata": {},
     "output_type": "execute_result"
    }
   ],
   "source": [
    "X_train.columns"
   ]
  },
  {
   "cell_type": "code",
   "execution_count": 38,
   "metadata": {},
   "outputs": [
    {
     "name": "stderr",
     "output_type": "stream",
     "text": [
      "/Users/justing/opt/anaconda3/envs/learn-env/lib/python3.8/site-packages/pandas/core/frame.py:4163: SettingWithCopyWarning: \n",
      "A value is trying to be set on a copy of a slice from a DataFrame\n",
      "\n",
      "See the caveats in the documentation: https://pandas.pydata.org/pandas-docs/stable/user_guide/indexing.html#returning-a-view-versus-a-copy\n",
      "  return super().drop(\n"
     ]
    },
    {
     "data": {
      "text/html": [
       "<div>\n",
       "<style scoped>\n",
       "    .dataframe tbody tr th:only-of-type {\n",
       "        vertical-align: middle;\n",
       "    }\n",
       "\n",
       "    .dataframe tbody tr th {\n",
       "        vertical-align: top;\n",
       "    }\n",
       "\n",
       "    .dataframe thead th {\n",
       "        text-align: right;\n",
       "    }\n",
       "</style>\n",
       "<table border=\"1\" class=\"dataframe\">\n",
       "  <thead>\n",
       "    <tr style=\"text-align: right;\">\n",
       "      <th></th>\n",
       "      <th>state</th>\n",
       "      <th>account_length</th>\n",
       "      <th>number_vmail_messages</th>\n",
       "      <th>total_day_minutes</th>\n",
       "      <th>total_day_calls</th>\n",
       "      <th>total_day_charge</th>\n",
       "      <th>total_eve_minutes</th>\n",
       "      <th>total_eve_calls</th>\n",
       "      <th>total_eve_charge</th>\n",
       "      <th>total_night_minutes</th>\n",
       "      <th>...</th>\n",
       "      <th>total_night_charge</th>\n",
       "      <th>total_intl_minutes</th>\n",
       "      <th>total_intl_calls</th>\n",
       "      <th>total_intl_charge</th>\n",
       "      <th>customer_service_calls</th>\n",
       "      <th>total_charge</th>\n",
       "      <th>international_plan_no</th>\n",
       "      <th>international_plan_yes</th>\n",
       "      <th>voice_mail_plan_no</th>\n",
       "      <th>voice_mail_plan_yes</th>\n",
       "    </tr>\n",
       "  </thead>\n",
       "  <tbody>\n",
       "    <tr>\n",
       "      <th>0</th>\n",
       "      <td>WY</td>\n",
       "      <td>113</td>\n",
       "      <td>0</td>\n",
       "      <td>155.0</td>\n",
       "      <td>93</td>\n",
       "      <td>26.35</td>\n",
       "      <td>330.6</td>\n",
       "      <td>106</td>\n",
       "      <td>28.10</td>\n",
       "      <td>189.4</td>\n",
       "      <td>...</td>\n",
       "      <td>8.52</td>\n",
       "      <td>13.5</td>\n",
       "      <td>3</td>\n",
       "      <td>3.65</td>\n",
       "      <td>1</td>\n",
       "      <td>66.62</td>\n",
       "      <td>1.0</td>\n",
       "      <td>0.0</td>\n",
       "      <td>1.0</td>\n",
       "      <td>0.0</td>\n",
       "    </tr>\n",
       "    <tr>\n",
       "      <th>1</th>\n",
       "      <td>IL</td>\n",
       "      <td>67</td>\n",
       "      <td>0</td>\n",
       "      <td>109.1</td>\n",
       "      <td>117</td>\n",
       "      <td>18.55</td>\n",
       "      <td>217.4</td>\n",
       "      <td>124</td>\n",
       "      <td>18.48</td>\n",
       "      <td>188.4</td>\n",
       "      <td>...</td>\n",
       "      <td>8.48</td>\n",
       "      <td>12.8</td>\n",
       "      <td>6</td>\n",
       "      <td>3.46</td>\n",
       "      <td>0</td>\n",
       "      <td>48.97</td>\n",
       "      <td>1.0</td>\n",
       "      <td>0.0</td>\n",
       "      <td>1.0</td>\n",
       "      <td>0.0</td>\n",
       "    </tr>\n",
       "    <tr>\n",
       "      <th>2</th>\n",
       "      <td>SD</td>\n",
       "      <td>98</td>\n",
       "      <td>0</td>\n",
       "      <td>0.0</td>\n",
       "      <td>0</td>\n",
       "      <td>0.00</td>\n",
       "      <td>159.6</td>\n",
       "      <td>130</td>\n",
       "      <td>13.57</td>\n",
       "      <td>167.1</td>\n",
       "      <td>...</td>\n",
       "      <td>7.52</td>\n",
       "      <td>6.8</td>\n",
       "      <td>1</td>\n",
       "      <td>1.84</td>\n",
       "      <td>4</td>\n",
       "      <td>22.93</td>\n",
       "      <td>1.0</td>\n",
       "      <td>0.0</td>\n",
       "      <td>1.0</td>\n",
       "      <td>0.0</td>\n",
       "    </tr>\n",
       "    <tr>\n",
       "      <th>3</th>\n",
       "      <td>KY</td>\n",
       "      <td>147</td>\n",
       "      <td>0</td>\n",
       "      <td>212.8</td>\n",
       "      <td>79</td>\n",
       "      <td>36.18</td>\n",
       "      <td>204.1</td>\n",
       "      <td>91</td>\n",
       "      <td>17.35</td>\n",
       "      <td>156.2</td>\n",
       "      <td>...</td>\n",
       "      <td>7.03</td>\n",
       "      <td>10.2</td>\n",
       "      <td>2</td>\n",
       "      <td>2.75</td>\n",
       "      <td>1</td>\n",
       "      <td>63.31</td>\n",
       "      <td>1.0</td>\n",
       "      <td>0.0</td>\n",
       "      <td>1.0</td>\n",
       "      <td>0.0</td>\n",
       "    </tr>\n",
       "    <tr>\n",
       "      <th>4</th>\n",
       "      <td>WY</td>\n",
       "      <td>96</td>\n",
       "      <td>0</td>\n",
       "      <td>144.0</td>\n",
       "      <td>102</td>\n",
       "      <td>24.48</td>\n",
       "      <td>224.7</td>\n",
       "      <td>73</td>\n",
       "      <td>19.10</td>\n",
       "      <td>227.7</td>\n",
       "      <td>...</td>\n",
       "      <td>10.25</td>\n",
       "      <td>10.0</td>\n",
       "      <td>7</td>\n",
       "      <td>2.70</td>\n",
       "      <td>1</td>\n",
       "      <td>56.53</td>\n",
       "      <td>1.0</td>\n",
       "      <td>0.0</td>\n",
       "      <td>1.0</td>\n",
       "      <td>0.0</td>\n",
       "    </tr>\n",
       "  </tbody>\n",
       "</table>\n",
       "<p>5 rows × 21 columns</p>\n",
       "</div>"
      ],
      "text/plain": [
       "  state  account_length  number_vmail_messages  total_day_minutes  \\\n",
       "0    WY             113                      0              155.0   \n",
       "1    IL              67                      0              109.1   \n",
       "2    SD              98                      0                0.0   \n",
       "3    KY             147                      0              212.8   \n",
       "4    WY              96                      0              144.0   \n",
       "\n",
       "   total_day_calls  total_day_charge  total_eve_minutes  total_eve_calls  \\\n",
       "0               93             26.35              330.6              106   \n",
       "1              117             18.55              217.4              124   \n",
       "2                0              0.00              159.6              130   \n",
       "3               79             36.18              204.1               91   \n",
       "4              102             24.48              224.7               73   \n",
       "\n",
       "   total_eve_charge  total_night_minutes  ...  total_night_charge  \\\n",
       "0             28.10                189.4  ...                8.52   \n",
       "1             18.48                188.4  ...                8.48   \n",
       "2             13.57                167.1  ...                7.52   \n",
       "3             17.35                156.2  ...                7.03   \n",
       "4             19.10                227.7  ...               10.25   \n",
       "\n",
       "   total_intl_minutes  total_intl_calls  total_intl_charge  \\\n",
       "0                13.5                 3               3.65   \n",
       "1                12.8                 6               3.46   \n",
       "2                 6.8                 1               1.84   \n",
       "3                10.2                 2               2.75   \n",
       "4                10.0                 7               2.70   \n",
       "\n",
       "   customer_service_calls  total_charge  international_plan_no  \\\n",
       "0                       1         66.62                    1.0   \n",
       "1                       0         48.97                    1.0   \n",
       "2                       4         22.93                    1.0   \n",
       "3                       1         63.31                    1.0   \n",
       "4                       1         56.53                    1.0   \n",
       "\n",
       "   international_plan_yes  voice_mail_plan_no  voice_mail_plan_yes  \n",
       "0                     0.0                 1.0                  0.0  \n",
       "1                     0.0                 1.0                  0.0  \n",
       "2                     0.0                 1.0                  0.0  \n",
       "3                     0.0                 1.0                  0.0  \n",
       "4                     0.0                 1.0                  0.0  \n",
       "\n",
       "[5 rows x 21 columns]"
      ]
     },
     "execution_count": 38,
     "metadata": {},
     "output_type": "execute_result"
    }
   ],
   "source": [
    "ohe = OneHotEncoder(handle_unknown='ignore',sparse=False)\n",
    "ohe_test_df = pd.DataFrame(ohe.fit_transform(X_test[['international_plan', 'voice_mail_plan']]))\n",
    "ohe_test_df.columns = ohe.get_feature_names(['international_plan', 'voice_mail_plan'])\n",
    "X_test.drop(['international_plan', 'voice_mail_plan'] ,axis=1, inplace=True)\n",
    "X_test = pd.concat([X_test.reset_index(drop=True),pd.DataFrame(ohe_test_df).reset_index(drop=True)], \n",
    "    axis=1)\n",
    "X_test.head()"
   ]
  },
  {
   "cell_type": "code",
   "execution_count": 39,
   "metadata": {},
   "outputs": [],
   "source": [
    "#Drop state column from the data \n",
    "X_train.drop(['state'], inplace=True, axis=1)"
   ]
  },
  {
   "cell_type": "code",
   "execution_count": 40,
   "metadata": {},
   "outputs": [],
   "source": [
    "X_test.drop(['state'], inplace=True, axis=1)"
   ]
  },
  {
   "cell_type": "markdown",
   "metadata": {},
   "source": [
    "# Modeling"
   ]
  },
  {
   "cell_type": "markdown",
   "metadata": {},
   "source": [
    " - Will create three different models including a Logistic Regression Model, a Decsison Tree, and a Random Forrest. Each model will contain a \"vanilla model\" without parameter tuning and will then run a Gridsearch to find the optimal parameters for each. The models will then be evaluated by precsision and AUC score as outlined earlier. The model with the highest precsion and auc score will then be analyzed by the coefficients in order to determine which features were most important in the model. Business recommendations will then be provided based on the model analysis."
   ]
  },
  {
   "cell_type": "markdown",
   "metadata": {},
   "source": [
    "## Model A - Logistic Regression Model (Vanilla Model)"
   ]
  },
  {
   "cell_type": "markdown",
   "metadata": {},
   "source": [
    "### Model A Training"
   ]
  },
  {
   "cell_type": "markdown",
   "metadata": {},
   "source": [
    " - Will run a vanilla logistic regression model containing all features expect for highly correlated ones to get an idea of how the data perfroms."
   ]
  },
  {
   "cell_type": "markdown",
   "metadata": {},
   "source": [
    "### Feature Selection"
   ]
  },
  {
   "cell_type": "code",
   "execution_count": 41,
   "metadata": {},
   "outputs": [
    {
     "data": {
      "text/plain": [
       "Index(['account_length', 'number_vmail_messages', 'total_day_minutes',\n",
       "       'total_day_calls', 'total_day_charge', 'total_eve_minutes',\n",
       "       'total_eve_calls', 'total_eve_charge', 'total_night_minutes',\n",
       "       'total_night_calls', 'total_night_charge', 'total_intl_minutes',\n",
       "       'total_intl_calls', 'total_intl_charge', 'customer_service_calls',\n",
       "       'total_charge', 'international_plan_no', 'international_plan_yes',\n",
       "       'voice_mail_plan_no', 'voice_mail_plan_yes'],\n",
       "      dtype='object')"
      ]
     },
     "execution_count": 41,
     "metadata": {},
     "output_type": "execute_result"
    }
   ],
   "source": [
    "X_train.columns"
   ]
  },
  {
   "cell_type": "code",
   "execution_count": 42,
   "metadata": {},
   "outputs": [],
   "source": [
    "#Convert target to training and testing dataframes\n",
    "#y_train_df = pd.DataFrame(y_train)\n",
    "#y_test_df = pd.DataFrame(y_test)"
   ]
  },
  {
   "cell_type": "code",
   "execution_count": 43,
   "metadata": {},
   "outputs": [],
   "source": [
    "features_model_a_train = pd.DataFrame(data=X_train, columns=['customer_service_calls','total_charge','number_vmail_messages',\n",
    "                                            'account_length','total_eve_minutes','total_night_minutes',\n",
    "                                            'total_intl_minutes','international_plan_no',\n",
    "                                            'international_plan_yes','voice_mail_plan_no','voice_mail_plan_yes'])\n",
    "                                            "
   ]
  },
  {
   "cell_type": "code",
   "execution_count": 44,
   "metadata": {},
   "outputs": [],
   "source": [
    "features_model_a_test = pd.DataFrame(data=X_test, columns=['customer_service_calls','total_charge','number_vmail_messages',\n",
    "                                            'account_length','total_eve_minutes','total_night_minutes',\n",
    "                                            'total_intl_minutes','international_plan_no',\n",
    "                                            'international_plan_yes','voice_mail_plan_no','voice_mail_plan_yes'])"
   ]
  },
  {
   "cell_type": "code",
   "execution_count": 45,
   "metadata": {},
   "outputs": [
    {
     "data": {
      "text/html": [
       "<div>\n",
       "<style scoped>\n",
       "    .dataframe tbody tr th:only-of-type {\n",
       "        vertical-align: middle;\n",
       "    }\n",
       "\n",
       "    .dataframe tbody tr th {\n",
       "        vertical-align: top;\n",
       "    }\n",
       "\n",
       "    .dataframe thead th {\n",
       "        text-align: right;\n",
       "    }\n",
       "</style>\n",
       "<table border=\"1\" class=\"dataframe\">\n",
       "  <thead>\n",
       "    <tr style=\"text-align: right;\">\n",
       "      <th></th>\n",
       "      <th>customer_service_calls</th>\n",
       "      <th>total_charge</th>\n",
       "      <th>number_vmail_messages</th>\n",
       "      <th>account_length</th>\n",
       "      <th>total_eve_minutes</th>\n",
       "      <th>total_night_minutes</th>\n",
       "      <th>total_intl_minutes</th>\n",
       "      <th>international_plan_no</th>\n",
       "      <th>international_plan_yes</th>\n",
       "      <th>voice_mail_plan_no</th>\n",
       "      <th>voice_mail_plan_yes</th>\n",
       "    </tr>\n",
       "  </thead>\n",
       "  <tbody>\n",
       "    <tr>\n",
       "      <th>0</th>\n",
       "      <td>1</td>\n",
       "      <td>51.17</td>\n",
       "      <td>0</td>\n",
       "      <td>45</td>\n",
       "      <td>253.4</td>\n",
       "      <td>255.0</td>\n",
       "      <td>18.0</td>\n",
       "      <td>1.0</td>\n",
       "      <td>0.0</td>\n",
       "      <td>1.0</td>\n",
       "      <td>0.0</td>\n",
       "    </tr>\n",
       "    <tr>\n",
       "      <th>1</th>\n",
       "      <td>2</td>\n",
       "      <td>70.25</td>\n",
       "      <td>0</td>\n",
       "      <td>115</td>\n",
       "      <td>227.0</td>\n",
       "      <td>313.2</td>\n",
       "      <td>13.2</td>\n",
       "      <td>1.0</td>\n",
       "      <td>0.0</td>\n",
       "      <td>1.0</td>\n",
       "      <td>0.0</td>\n",
       "    </tr>\n",
       "    <tr>\n",
       "      <th>2</th>\n",
       "      <td>4</td>\n",
       "      <td>69.37</td>\n",
       "      <td>31</td>\n",
       "      <td>121</td>\n",
       "      <td>205.6</td>\n",
       "      <td>196.7</td>\n",
       "      <td>10.1</td>\n",
       "      <td>1.0</td>\n",
       "      <td>0.0</td>\n",
       "      <td>0.0</td>\n",
       "      <td>1.0</td>\n",
       "    </tr>\n",
       "    <tr>\n",
       "      <th>3</th>\n",
       "      <td>1</td>\n",
       "      <td>50.72</td>\n",
       "      <td>0</td>\n",
       "      <td>180</td>\n",
       "      <td>180.5</td>\n",
       "      <td>184.2</td>\n",
       "      <td>10.1</td>\n",
       "      <td>1.0</td>\n",
       "      <td>0.0</td>\n",
       "      <td>1.0</td>\n",
       "      <td>0.0</td>\n",
       "    </tr>\n",
       "    <tr>\n",
       "      <th>4</th>\n",
       "      <td>3</td>\n",
       "      <td>58.74</td>\n",
       "      <td>0</td>\n",
       "      <td>112</td>\n",
       "      <td>164.5</td>\n",
       "      <td>140.3</td>\n",
       "      <td>12.6</td>\n",
       "      <td>1.0</td>\n",
       "      <td>0.0</td>\n",
       "      <td>1.0</td>\n",
       "      <td>0.0</td>\n",
       "    </tr>\n",
       "  </tbody>\n",
       "</table>\n",
       "</div>"
      ],
      "text/plain": [
       "   customer_service_calls  total_charge  number_vmail_messages  \\\n",
       "0                       1         51.17                      0   \n",
       "1                       2         70.25                      0   \n",
       "2                       4         69.37                     31   \n",
       "3                       1         50.72                      0   \n",
       "4                       3         58.74                      0   \n",
       "\n",
       "   account_length  total_eve_minutes  total_night_minutes  total_intl_minutes  \\\n",
       "0              45              253.4                255.0                18.0   \n",
       "1             115              227.0                313.2                13.2   \n",
       "2             121              205.6                196.7                10.1   \n",
       "3             180              180.5                184.2                10.1   \n",
       "4             112              164.5                140.3                12.6   \n",
       "\n",
       "   international_plan_no  international_plan_yes  voice_mail_plan_no  \\\n",
       "0                    1.0                     0.0                 1.0   \n",
       "1                    1.0                     0.0                 1.0   \n",
       "2                    1.0                     0.0                 0.0   \n",
       "3                    1.0                     0.0                 1.0   \n",
       "4                    1.0                     0.0                 1.0   \n",
       "\n",
       "   voice_mail_plan_yes  \n",
       "0                  0.0  \n",
       "1                  0.0  \n",
       "2                  1.0  \n",
       "3                  0.0  \n",
       "4                  0.0  "
      ]
     },
     "execution_count": 45,
     "metadata": {},
     "output_type": "execute_result"
    }
   ],
   "source": [
    "features_model_a_train.head()"
   ]
  },
  {
   "cell_type": "code",
   "execution_count": 46,
   "metadata": {},
   "outputs": [
    {
     "data": {
      "text/html": [
       "<div>\n",
       "<style scoped>\n",
       "    .dataframe tbody tr th:only-of-type {\n",
       "        vertical-align: middle;\n",
       "    }\n",
       "\n",
       "    .dataframe tbody tr th {\n",
       "        vertical-align: top;\n",
       "    }\n",
       "\n",
       "    .dataframe thead th {\n",
       "        text-align: right;\n",
       "    }\n",
       "</style>\n",
       "<table border=\"1\" class=\"dataframe\">\n",
       "  <thead>\n",
       "    <tr style=\"text-align: right;\">\n",
       "      <th></th>\n",
       "      <th>customer_service_calls</th>\n",
       "      <th>total_charge</th>\n",
       "      <th>number_vmail_messages</th>\n",
       "      <th>account_length</th>\n",
       "      <th>total_eve_minutes</th>\n",
       "      <th>total_night_minutes</th>\n",
       "      <th>total_intl_minutes</th>\n",
       "      <th>international_plan_no</th>\n",
       "      <th>international_plan_yes</th>\n",
       "      <th>voice_mail_plan_no</th>\n",
       "      <th>voice_mail_plan_yes</th>\n",
       "    </tr>\n",
       "  </thead>\n",
       "  <tbody>\n",
       "    <tr>\n",
       "      <th>0</th>\n",
       "      <td>1</td>\n",
       "      <td>66.62</td>\n",
       "      <td>0</td>\n",
       "      <td>113</td>\n",
       "      <td>330.6</td>\n",
       "      <td>189.4</td>\n",
       "      <td>13.5</td>\n",
       "      <td>1.0</td>\n",
       "      <td>0.0</td>\n",
       "      <td>1.0</td>\n",
       "      <td>0.0</td>\n",
       "    </tr>\n",
       "    <tr>\n",
       "      <th>1</th>\n",
       "      <td>0</td>\n",
       "      <td>48.97</td>\n",
       "      <td>0</td>\n",
       "      <td>67</td>\n",
       "      <td>217.4</td>\n",
       "      <td>188.4</td>\n",
       "      <td>12.8</td>\n",
       "      <td>1.0</td>\n",
       "      <td>0.0</td>\n",
       "      <td>1.0</td>\n",
       "      <td>0.0</td>\n",
       "    </tr>\n",
       "    <tr>\n",
       "      <th>2</th>\n",
       "      <td>4</td>\n",
       "      <td>22.93</td>\n",
       "      <td>0</td>\n",
       "      <td>98</td>\n",
       "      <td>159.6</td>\n",
       "      <td>167.1</td>\n",
       "      <td>6.8</td>\n",
       "      <td>1.0</td>\n",
       "      <td>0.0</td>\n",
       "      <td>1.0</td>\n",
       "      <td>0.0</td>\n",
       "    </tr>\n",
       "    <tr>\n",
       "      <th>3</th>\n",
       "      <td>1</td>\n",
       "      <td>63.31</td>\n",
       "      <td>0</td>\n",
       "      <td>147</td>\n",
       "      <td>204.1</td>\n",
       "      <td>156.2</td>\n",
       "      <td>10.2</td>\n",
       "      <td>1.0</td>\n",
       "      <td>0.0</td>\n",
       "      <td>1.0</td>\n",
       "      <td>0.0</td>\n",
       "    </tr>\n",
       "    <tr>\n",
       "      <th>4</th>\n",
       "      <td>1</td>\n",
       "      <td>56.53</td>\n",
       "      <td>0</td>\n",
       "      <td>96</td>\n",
       "      <td>224.7</td>\n",
       "      <td>227.7</td>\n",
       "      <td>10.0</td>\n",
       "      <td>1.0</td>\n",
       "      <td>0.0</td>\n",
       "      <td>1.0</td>\n",
       "      <td>0.0</td>\n",
       "    </tr>\n",
       "  </tbody>\n",
       "</table>\n",
       "</div>"
      ],
      "text/plain": [
       "   customer_service_calls  total_charge  number_vmail_messages  \\\n",
       "0                       1         66.62                      0   \n",
       "1                       0         48.97                      0   \n",
       "2                       4         22.93                      0   \n",
       "3                       1         63.31                      0   \n",
       "4                       1         56.53                      0   \n",
       "\n",
       "   account_length  total_eve_minutes  total_night_minutes  total_intl_minutes  \\\n",
       "0             113              330.6                189.4                13.5   \n",
       "1              67              217.4                188.4                12.8   \n",
       "2              98              159.6                167.1                 6.8   \n",
       "3             147              204.1                156.2                10.2   \n",
       "4              96              224.7                227.7                10.0   \n",
       "\n",
       "   international_plan_no  international_plan_yes  voice_mail_plan_no  \\\n",
       "0                    1.0                     0.0                 1.0   \n",
       "1                    1.0                     0.0                 1.0   \n",
       "2                    1.0                     0.0                 1.0   \n",
       "3                    1.0                     0.0                 1.0   \n",
       "4                    1.0                     0.0                 1.0   \n",
       "\n",
       "   voice_mail_plan_yes  \n",
       "0                  0.0  \n",
       "1                  0.0  \n",
       "2                  0.0  \n",
       "3                  0.0  \n",
       "4                  0.0  "
      ]
     },
     "execution_count": 46,
     "metadata": {},
     "output_type": "execute_result"
    }
   ],
   "source": [
    "features_model_a_test.head()"
   ]
  },
  {
   "cell_type": "markdown",
   "metadata": {},
   "source": [
    "### Scale data"
   ]
  },
  {
   "cell_type": "code",
   "execution_count": 47,
   "metadata": {},
   "outputs": [],
   "source": [
    "#Scale testing and training features\n",
    "scale_features = StandardScaler()\n",
    "scale_features.fit(features_model_a_train)\n",
    "X_train_scaled_a = scale_features.transform(features_model_a_train)\n",
    "X_test_scaled_a = scale_features.transform(features_model_a_test)"
   ]
  },
  {
   "cell_type": "markdown",
   "metadata": {},
   "source": [
    "### Create Model"
   ]
  },
  {
   "cell_type": "code",
   "execution_count": 48,
   "metadata": {},
   "outputs": [],
   "source": [
    "#Create vanilla logistic regression model, only changing class_weight to 'balanced' due to the highly imbalanced target data\n",
    "model_a = LogisticRegression(class_weight='balanced')"
   ]
  },
  {
   "cell_type": "code",
   "execution_count": 49,
   "metadata": {},
   "outputs": [
    {
     "data": {
      "text/plain": [
       "LogisticRegression(class_weight='balanced')"
      ]
     },
     "execution_count": 49,
     "metadata": {},
     "output_type": "execute_result"
    }
   ],
   "source": [
    "#Fit model to training data\n",
    "model_a.fit(X_train_scaled_a, y_train)"
   ]
  },
  {
   "cell_type": "markdown",
   "metadata": {},
   "source": [
    "### Model A Evaluation Metrics"
   ]
  },
  {
   "cell_type": "code",
   "execution_count": 50,
   "metadata": {},
   "outputs": [
    {
     "data": {
      "text/plain": [
       "{'customer_service_calls': 0.7737536275703866,\n",
       " 'total_charge': 0.7270736936760807,\n",
       " 'number_vmail_messages': 0.2557707163911377,\n",
       " 'account_length': 0.045890328160068695,\n",
       " 'total_eve_minutes': -0.0023787644058909205,\n",
       " 'total_night_minutes': 0.002828286526229075,\n",
       " 'total_intl_minutes': 0.15425536133953013,\n",
       " 'international_plan_no': -0.35844928975461987,\n",
       " 'international_plan_yes': 0.35844928975462076,\n",
       " 'voice_mail_plan_no': 0.3078747166557557,\n",
       " 'voice_mail_plan_yes': -0.30787471665575694}"
      ]
     },
     "execution_count": 50,
     "metadata": {},
     "output_type": "execute_result"
    }
   ],
   "source": [
    "#Evaluate coefficients\n",
    "coef_dict_a = {}\n",
    "for coef, feat in zip(model_a.coef_[0,:], features_model_a_train.columns):\n",
    "    coef_dict_a[feat] = coef\n",
    "coef_dict_a"
   ]
  },
  {
   "cell_type": "code",
   "execution_count": 51,
   "metadata": {},
   "outputs": [],
   "source": [
    "def plot_feature_imp(data, model, title):\n",
    "    feat_imps_df = pd.DataFrame(\n",
    "    zip(data.columns, model.coef_[0,:]),\n",
    "    columns=['Feature', 'Importance'],\n",
    "    )\n",
    "\n",
    "    fig, ax = plt.subplots()\n",
    "    sns.barplot(x='Importance', y='Feature', \n",
    "            data=feat_imps_df.sort_values(by='Importance', key=abs, ascending=False), orient='h', ax=ax, color='tab:blue')\n",
    "    plt.title(title);"
   ]
  },
  {
   "cell_type": "code",
   "execution_count": 52,
   "metadata": {},
   "outputs": [
    {
     "data": {
      "image/png": "[encoded data removed]",
      "text/plain": [
       "<Figure size 432x288 with 1 Axes>"
      ]
     },
     "metadata": {},
     "output_type": "display_data"
    }
   ],
   "source": [
    "plot_feature_imp(features_model_a_train, model_a, 'Model A Feature Importance')"
   ]
  },
  {
   "cell_type": "markdown",
   "metadata": {},
   "source": [
    " - According to Model A, the top five most imortant features in predicting churn are:\n",
    " 1. Customer Service Calls\n",
    " \n",
    " 2. Total Charge\n",
    " \n",
    " 3. International Plan\n",
    " \n",
    " 4. Voice Mail Plan\n",
    " \n",
    " 5. Number Voice Mail Messages"
   ]
  },
  {
   "cell_type": "code",
   "execution_count": 53,
   "metadata": {},
   "outputs": [],
   "source": [
    "def confusion_matrix(model, data, y, title):\n",
    "    plot_confusion_matrix(model, data, y, cmap='Greens')\n",
    "    plt.title(title)\n",
    "    plt.grid(False)"
   ]
  },
  {
   "cell_type": "code",
   "execution_count": 54,
   "metadata": {},
   "outputs": [
    {
     "data": {
      "image/png": "[encoded data removed]",
      "text/plain": [
       "<Figure size 432x288 with 2 Axes>"
      ]
     },
     "metadata": {},
     "output_type": "display_data"
    }
   ],
   "source": [
    "confusion_matrix(model_a, X_train_scaled_a, y_train, 'Model A Training Data')"
   ]
  },
  {
   "cell_type": "code",
   "execution_count": 55,
   "metadata": {},
   "outputs": [
    {
     "data": {
      "image/png": "[encoded data removed]",
      "text/plain": [
       "<Figure size 432x288 with 2 Axes>"
      ]
     },
     "metadata": {},
     "output_type": "display_data"
    }
   ],
   "source": [
    "confusion_matrix(model_a, X_test_scaled_a, y_test, 'Model A Test Data')"
   ]
  },
  {
   "cell_type": "markdown",
   "metadata": {},
   "source": [
    " - According to the testing data confusion matrix, out of all the true positives, Model A predicts 100 out of 251 correctly. This would seem to indicate a low precsion score which should be reflected in the classification report. "
   ]
  },
  {
   "cell_type": "code",
   "execution_count": 56,
   "metadata": {},
   "outputs": [],
   "source": [
    "def classification(y, model, data):\n",
    "    print(classification_report(y, model.predict(data)))"
   ]
  },
  {
   "cell_type": "code",
   "execution_count": 57,
   "metadata": {},
   "outputs": [
    {
     "name": "stdout",
     "output_type": "stream",
     "text": [
      "              precision    recall  f1-score   support\n",
      "\n",
      "           0       0.95      0.77      0.85      2141\n",
      "           1       0.35      0.74      0.48       358\n",
      "\n",
      "    accuracy                           0.77      2499\n",
      "   macro avg       0.65      0.76      0.66      2499\n",
      "weighted avg       0.86      0.77      0.80      2499\n",
      "\n"
     ]
    }
   ],
   "source": [
    "#Print model A classification report showing precision, recall, f1-score, and accuracy metrics\n",
    "classification(y_train, model_a, X_train_scaled_a)"
   ]
  },
  {
   "cell_type": "code",
   "execution_count": 58,
   "metadata": {},
   "outputs": [
    {
     "name": "stdout",
     "output_type": "stream",
     "text": [
      "              precision    recall  f1-score   support\n",
      "\n",
      "           0       0.96      0.79      0.86       709\n",
      "           1       0.40      0.80      0.53       125\n",
      "\n",
      "    accuracy                           0.79       834\n",
      "   macro avg       0.68      0.79      0.70       834\n",
      "weighted avg       0.87      0.79      0.81       834\n",
      "\n"
     ]
    }
   ],
   "source": [
    "#Model A testing data classification report\n",
    "classification(y_test, model_a, X_test_scaled_a)"
   ]
  },
  {
   "cell_type": "markdown",
   "metadata": {},
   "source": [
    " - According to the testing data classification report Model A shows a 40% precision score for true-churn. This would indicate a week model based on our main evaluation metric of precision.\n",
    " \n",
    " \n",
    " - Model A does not appear to be overfitting based on the similar results of metrics from the training and testing datasets."
   ]
  },
  {
   "cell_type": "code",
   "execution_count": 59,
   "metadata": {},
   "outputs": [],
   "source": [
    "def plot_roc_curve(model, test_data):\n",
    "#Calculate y score to plot roc curve \n",
    "    y_score = model.decision_function(test_data)\n",
    "\n",
    "#Calculate fpr and tpr for roc curve\n",
    "    fpr, tpr, thresholds = roc_curve(y_test, y_score)\n",
    "\n",
    "#Graph showing plot of roc curve\n",
    "    sns.set_style('darkgrid', {'axes.facecolor': '0.9'})\n",
    "\n",
    "    print('AUC: {}'.format(auc(fpr, tpr)))\n",
    "    plt.figure(figsize=(10, 8))\n",
    "    lw = 2\n",
    "    plt.plot(fpr, tpr, color='green',\n",
    "         lw=lw, label='ROC curve')\n",
    "    plt.plot([0, 1], [0, 1], color='navy', lw=lw, linestyle='--')\n",
    "    plt.xlim([0.0, 1.0])\n",
    "    plt.ylim([0.0, 1.05])\n",
    "    plt.yticks([i/20.0 for i in range(21)])\n",
    "    plt.xticks([i/20.0 for i in range(21)])\n",
    "    plt.xlabel('False Positive Rate')\n",
    "    plt.ylabel('True Positive Rate')\n",
    "    plt.title('Receiver operating characteristic (ROC) Curve')\n",
    "    plt.legend(loc='lower right')\n",
    "    plt.show()"
   ]
  },
  {
   "cell_type": "code",
   "execution_count": 60,
   "metadata": {},
   "outputs": [
    {
     "name": "stdout",
     "output_type": "stream",
     "text": [
      "AUC: 0.8377094499294782\n"
     ]
    },
    {
     "data": {
      "image/png": "[encoded data removed]",
      "text/plain": [
       "<Figure size 720x576 with 1 Axes>"
      ]
     },
     "metadata": {},
     "output_type": "display_data"
    }
   ],
   "source": [
    "plot_roc_curve(model_a, X_test_scaled_a)"
   ]
  },
  {
   "cell_type": "markdown",
   "metadata": {},
   "source": [
    "### Model A Summary"
   ]
  },
  {
   "cell_type": "markdown",
   "metadata": {},
   "source": [
    " - Model A top features: \n",
    " 1. Customer Service Calls\n",
    " \n",
    " 2. Total Charge\n",
    " \n",
    " 3. International Plan\n",
    " \n",
    " 4. Voice Mail Plan\n",
    " \n",
    " 5. Number Voice Mail Messages\n",
    " \n",
    " - Precision Score (test data): 40%\n",
    "\n",
    " - Area under the curve (test data): 84%\n",
    " \n",
    " - Model does not appear to be overfitting."
   ]
  },
  {
   "cell_type": "markdown",
   "metadata": {},
   "source": [
    "## Model A2 - Logistic Regression (Tuned Parameters, Reduced Features)"
   ]
  },
  {
   "cell_type": "markdown",
   "metadata": {},
   "source": [
    " - Will run a second logistic regression model using tuned parameters from a gridsearch as well as reducing the features to the top five features from Model A. This will likely improve performance of the logistic regression model."
   ]
  },
  {
   "cell_type": "markdown",
   "metadata": {},
   "source": [
    "### Parameter Tuning"
   ]
  },
  {
   "cell_type": "markdown",
   "metadata": {},
   "source": [
    " - Will tune the features of Model A using a gridsearch on the following parameters: 'penalty', 'C', 'solver', and 'max iter'. This should help in improving the overall model performance."
   ]
  },
  {
   "cell_type": "markdown",
   "metadata": {},
   "source": [
    ">### GridsearchCV"
   ]
  },
  {
   "cell_type": "code",
   "execution_count": 61,
   "metadata": {},
   "outputs": [],
   "source": [
    "#Select parameter options for gridsearchcv\n",
    "param_grid = [    \n",
    "    {'penalty' : ['l1', 'l2', 'elasticnet', 'none'],\n",
    "    'C' : np.logspace(-3,3,7),\n",
    "    'solver' : ['lbfgs','newton-cg','liblinear','sag','saga'],\n",
    "    'max_iter' : [100, 1000,2500, 5000]\n",
    "    }]"
   ]
  },
  {
   "cell_type": "code",
   "execution_count": 62,
   "metadata": {},
   "outputs": [],
   "source": [
    "#Create GridsearchCV classifier\n",
    "clf = GridSearchCV(model_a, param_grid = param_grid, cv = 3, verbose=True, n_jobs=-1)"
   ]
  },
  {
   "cell_type": "code",
   "execution_count": 63,
   "metadata": {},
   "outputs": [
    {
     "name": "stdout",
     "output_type": "stream",
     "text": [
      "Fitting 3 folds for each of 560 candidates, totalling 1680 fits\n"
     ]
    },
    {
     "name": "stderr",
     "output_type": "stream",
     "text": [
      "[Parallel(n_jobs=-1)]: Using backend LokyBackend with 4 concurrent workers.\n",
      "[Parallel(n_jobs=-1)]: Done  56 tasks      | elapsed:    3.9s\n",
      "[Parallel(n_jobs=-1)]: Done 1680 out of 1680 | elapsed:   13.9s finished\n"
     ]
    }
   ],
   "source": [
    "#Fit data and run GridsearchCV\n",
    "best_clf = clf.fit(X_train_scaled_a, y_train)"
   ]
  },
  {
   "cell_type": "code",
   "execution_count": 64,
   "metadata": {},
   "outputs": [
    {
     "data": {
      "text/plain": [
       "LogisticRegression(C=0.001, class_weight='balanced', penalty='l1',\n",
       "                   solver='liblinear')"
      ]
     },
     "execution_count": 64,
     "metadata": {},
     "output_type": "execute_result"
    }
   ],
   "source": [
    "#Best classifer estimates\n",
    "best_clf.best_estimator_"
   ]
  },
  {
   "cell_type": "markdown",
   "metadata": {},
   "source": [
    "### Model A2 Training"
   ]
  },
  {
   "cell_type": "markdown",
   "metadata": {},
   "source": [
    " - Will train Model A2 to only include top five features from Model A to see if this helps to improves the overall model."
   ]
  },
  {
   "cell_type": "markdown",
   "metadata": {},
   "source": [
    "### Feature Selection"
   ]
  },
  {
   "cell_type": "code",
   "execution_count": null,
   "metadata": {},
   "outputs": [],
   "source": []
  },
  {
   "cell_type": "code",
   "execution_count": 65,
   "metadata": {},
   "outputs": [
    {
     "ename": "NameError",
     "evalue": "name 'service_calls' is not defined",
     "output_type": "error",
     "traceback": [
      "\u001b[0;31m---------------------------------------------------------------------------\u001b[0m",
      "\u001b[0;31mNameError\u001b[0m                                 Traceback (most recent call last)",
      "\u001b[0;32m<ipython-input-65-2fcc6e37c31a>\u001b[0m in \u001b[0;36m<module>\u001b[0;34m\u001b[0m\n\u001b[1;32m      1\u001b[0m \u001b[0;31m# Combine training and testing features\u001b[0m\u001b[0;34m\u001b[0m\u001b[0;34m\u001b[0m\u001b[0;34m\u001b[0m\u001b[0m\n\u001b[0;32m----> 2\u001b[0;31m \u001b[0mfeatures_a2_train\u001b[0m \u001b[0;34m=\u001b[0m \u001b[0mpd\u001b[0m\u001b[0;34m.\u001b[0m\u001b[0mconcat\u001b[0m\u001b[0;34m(\u001b[0m\u001b[0;34m[\u001b[0m\u001b[0mservice_calls\u001b[0m\u001b[0;34m,\u001b[0m \u001b[0mtotal_charge\u001b[0m\u001b[0;34m,\u001b[0m \u001b[0mX_train_ohe_df\u001b[0m\u001b[0;34m,\u001b[0m \u001b[0mvmail\u001b[0m\u001b[0;34m]\u001b[0m\u001b[0;34m,\u001b[0m \u001b[0maxis\u001b[0m\u001b[0;34m=\u001b[0m\u001b[0;36m1\u001b[0m\u001b[0;34m)\u001b[0m\u001b[0;34m\u001b[0m\u001b[0;34m\u001b[0m\u001b[0m\n\u001b[0m\u001b[1;32m      3\u001b[0m \u001b[0;34m\u001b[0m\u001b[0m\n\u001b[1;32m      4\u001b[0m \u001b[0mfeatures_a2_test\u001b[0m \u001b[0;34m=\u001b[0m \u001b[0mpd\u001b[0m\u001b[0;34m.\u001b[0m\u001b[0mconcat\u001b[0m\u001b[0;34m(\u001b[0m\u001b[0;34m[\u001b[0m\u001b[0mservice_calls_test\u001b[0m\u001b[0;34m,\u001b[0m \u001b[0mtotal_charge_test\u001b[0m\u001b[0;34m,\u001b[0m \u001b[0mX_test_ohe_df\u001b[0m\u001b[0;34m,\u001b[0m \u001b[0mvmail_test\u001b[0m\u001b[0;34m]\u001b[0m\u001b[0;34m,\u001b[0m \u001b[0maxis\u001b[0m\u001b[0;34m=\u001b[0m\u001b[0;36m1\u001b[0m\u001b[0;34m)\u001b[0m\u001b[0;34m\u001b[0m\u001b[0;34m\u001b[0m\u001b[0m\n",
      "\u001b[0;31mNameError\u001b[0m: name 'service_calls' is not defined"
     ]
    }
   ],
   "source": [
    "# Combine training and testing features\n",
    "features_a2_train = pd.concat([service_calls, total_charge, X_train_ohe_df, vmail], axis=1)\n",
    "\n",
    "features_a2_test = pd.concat([service_calls_test, total_charge_test, X_test_ohe_df, vmail_test], axis=1)"
   ]
  },
  {
   "cell_type": "code",
   "execution_count": null,
   "metadata": {},
   "outputs": [],
   "source": [
    "#Scale testing and training features\n",
    "scale_features_a2 = StandardScaler()\n",
    "scale_features_a2.fit(features_a2_train)\n",
    "X_train_scaled_a2 = scale_features_a2.transform(features_a2_train)\n",
    "X_test_scaled_a2 = scale_features_a2.transform(features_a2_test)"
   ]
  },
  {
   "cell_type": "code",
   "execution_count": null,
   "metadata": {},
   "outputs": [],
   "source": [
    "#Create logistic regression model\n",
    "model_a2 = LogisticRegression(penalty='l1', solver='liblinear', class_weight='balanced')"
   ]
  },
  {
   "cell_type": "code",
   "execution_count": null,
   "metadata": {},
   "outputs": [],
   "source": [
    "#Fit model to training data\n",
    "model_a2.fit(X_train_scaled_a2, y_train_lb)"
   ]
  },
  {
   "cell_type": "code",
   "execution_count": null,
   "metadata": {},
   "outputs": [],
   "source": [
    "#Evaluate coefficients\n",
    "coef_dict_a2 = {}\n",
    "for coef, feat in zip(model_a.coef_[0,:], features_a2_train.columns):\n",
    "    coef_dict_a2[feat] = coef\n",
    "coef_dict_a2"
   ]
  },
  {
   "cell_type": "markdown",
   "metadata": {},
   "source": [
    " - According to Model A2, the top three most imortant features in predicting churn are:\n",
    " 1. Customer Service Calls\n",
    " \n",
    " 2. Total Charge\n",
    " \n",
    " 3. International Plan (no)"
   ]
  },
  {
   "cell_type": "code",
   "execution_count": null,
   "metadata": {},
   "outputs": [],
   "source": [
    "#Model A2 training data confusion matrix \n",
    "plot_confusion_matrix(model_a2, X_train_scaled_a2, y_train_lb, cmap='Greens')\n",
    "plt.grid(False)"
   ]
  },
  {
   "cell_type": "code",
   "execution_count": null,
   "metadata": {},
   "outputs": [],
   "source": [
    "#Model A2 testing data confusion matrix\n",
    "plot_confusion_matrix(model_a2, X_test_scaled_a2, y_test_lb, cmap='Greens')\n",
    "plt.grid(False)"
   ]
  },
  {
   "cell_type": "markdown",
   "metadata": {},
   "source": [
    " - According to the testing data confusion matrix, out of all the true positives, Model A2 predicts 100 out of 156 correctly. This would seem to indicate a low precsion score which should be reflected in the classification report."
   ]
  },
  {
   "cell_type": "code",
   "execution_count": null,
   "metadata": {},
   "outputs": [],
   "source": [
    "print(classification_report(y_train_lb, model_a2.predict(X_train_scaled_a2)))"
   ]
  },
  {
   "cell_type": "code",
   "execution_count": null,
   "metadata": {},
   "outputs": [],
   "source": [
    "print(classification_report(y_test_lb, model_a2.predict(X_test_scaled_a2)))"
   ]
  },
  {
   "cell_type": "markdown",
   "metadata": {},
   "source": [
    " - According to the testing data classification report Model A2 shows a 39% precision score for true-churn. This would indicate a week model based on our main evaluation metric of precision.\n",
    " \n",
    " \n",
    " - Model A2 does not appear to be overfitting based on the similar results of metrics from the training and testing datasets."
   ]
  },
  {
   "cell_type": "code",
   "execution_count": null,
   "metadata": {},
   "outputs": [],
   "source": [
    "y_score_a2 = model_a2.decision_function(X_test_scaled_a2)"
   ]
  },
  {
   "cell_type": "code",
   "execution_count": null,
   "metadata": {},
   "outputs": [],
   "source": [
    "fpr_a2, tpr_a2, thresholds = roc_curve(y_test_lb, y_score_a2)"
   ]
  },
  {
   "cell_type": "code",
   "execution_count": null,
   "metadata": {},
   "outputs": [],
   "source": [
    "print('AUC: {}'.format(auc(fpr_a2, tpr_a2)))"
   ]
  },
  {
   "cell_type": "code",
   "execution_count": null,
   "metadata": {},
   "outputs": [],
   "source": [
    "sns.set_style('darkgrid', {'axes.facecolor': '0.9'})\n",
    "\n",
    "print('AUC: {}'.format(auc(fpr_a2, tpr_a2)))\n",
    "plt.figure(figsize=(10, 8))\n",
    "lw = 2\n",
    "plt.plot(fpr, tpr, color='green',\n",
    "         lw=lw, label='ROC curve')\n",
    "plt.plot([0, 1], [0, 1], color='navy', lw=lw, linestyle='--')\n",
    "plt.xlim([0.0, 1.0])\n",
    "plt.ylim([0.0, 1.05])\n",
    "plt.yticks([i/20.0 for i in range(21)])\n",
    "plt.xticks([i/20.0 for i in range(21)])\n",
    "plt.xlabel('False Positive Rate')\n",
    "plt.ylabel('True Positive Rate')\n",
    "plt.title('Receiver operating characteristic (ROC) Curve')\n",
    "plt.legend(loc='lower right')\n",
    "plt.show()"
   ]
  },
  {
   "cell_type": "markdown",
   "metadata": {},
   "source": [
    "### Model A2 Summary"
   ]
  },
  {
   "cell_type": "markdown",
   "metadata": {},
   "source": [
    " - Model A2 top features: \n",
    " 1. Customer Service Calls\n",
    " \n",
    " 2. Total Charge\n",
    " \n",
    " 3. International Plan (no)\n",
    " \n",
    " \n",
    " - Precision Score (test data): 39% (Down 1% from Model A\n",
    "\n",
    " - Area under the curve (test data): 84% (Same as Model A)\n",
    " \n",
    " - Model A2 does not appear to be overfitting.\n",
    " \n",
    " - Because reducing features did not improve precision score, will likely include all features from Model A in future models."
   ]
  },
  {
   "cell_type": "markdown",
   "metadata": {},
   "source": [
    "## Model B - Decesion Tree (Vanilla Classifier)"
   ]
  },
  {
   "cell_type": "code",
   "execution_count": null,
   "metadata": {},
   "outputs": [],
   "source": [
    "#Create decision tree\n",
    "model_b = DecisionTreeClassifier(random_state=42)  \n",
    "model_b.fit(X_train_scaled_a, y_train_lb) "
   ]
  },
  {
   "cell_type": "code",
   "execution_count": null,
   "metadata": {},
   "outputs": [],
   "source": [
    "#Calculate Model B feature importance\n",
    "importance_b = model_b.feature_importances_"
   ]
  },
  {
   "cell_type": "code",
   "execution_count": null,
   "metadata": {},
   "outputs": [],
   "source": [
    "#List of features for Model B\n",
    "features_a_train.columns"
   ]
  },
  {
   "cell_type": "code",
   "execution_count": null,
   "metadata": {},
   "outputs": [],
   "source": [
    "#Check feature importance\n",
    "for i,v in enumerate(importance_b):\n",
    "    print('Feature: %0d, Score: %.5f' % (i,v))"
   ]
  },
  {
   "cell_type": "code",
   "execution_count": null,
   "metadata": {},
   "outputs": [],
   "source": [
    "#Bar graph showing most important features\n",
    "plt.bar([x for x in range(len(importance_b))], importance_b)\n",
    "plt.title('Model B Feature Importance')\n",
    "plt.xlabel('Features')\n",
    "plt.ylabel('Importance')\n",
    "plt.show()"
   ]
  },
  {
   "cell_type": "markdown",
   "metadata": {},
   "source": [
    " - According to Model B, the top five most imortant features in predicting churn are:\n",
    " 1. Total Charge\n",
    " \n",
    " 2. Customer Service Calls\n",
    " \n",
    " 3. Number Voice Mail Messages\n",
    " \n",
    " 4. Total International Minutes\n",
    " \n",
    " 5. International plan (no)"
   ]
  },
  {
   "cell_type": "code",
   "execution_count": null,
   "metadata": {},
   "outputs": [],
   "source": [
    "#Confusion matrix for Model B training data \n",
    "plot_confusion_matrix(model_b, X_train_scaled_a, y_train_lb, cmap=plt.cm.Greens)\n",
    "plt.grid(False)"
   ]
  },
  {
   "cell_type": "markdown",
   "metadata": {},
   "source": [
    " - The training data confusion matrix predicts all of the predictions correctly. This would likely indicate that the model is overfitting the data and will need to tune the decision tree parameters for a more reliable model."
   ]
  },
  {
   "cell_type": "code",
   "execution_count": null,
   "metadata": {},
   "outputs": [],
   "source": [
    "#Confusion matrix for Model B testing data\n",
    "plot_confusion_matrix(model_b, X_test_scaled_a, y_test_lb, cmap=plt.cm.Greens)\n",
    "plt.grid(False)"
   ]
  },
  {
   "cell_type": "code",
   "execution_count": null,
   "metadata": {},
   "outputs": [],
   "source": [
    "#Classification report for training data\n",
    "print(classification_report(y_train_lb, model_b.predict(X_train_scaled_a)))"
   ]
  },
  {
   "cell_type": "code",
   "execution_count": null,
   "metadata": {},
   "outputs": [],
   "source": [
    "#Classication report for testing data\n",
    "print(classification_report(y_test_lb, model_b.predict(X_test_scaled_a)))"
   ]
  },
  {
   "cell_type": "markdown",
   "metadata": {},
   "source": [
    " - According to the testing data classification report Model A shows a .75% precision score for true-churn compared to a 100% precision score on the training data.\n",
    " \n",
    " \n",
    " - Model B is overfitting based on these results"
   ]
  },
  {
   "cell_type": "code",
   "execution_count": null,
   "metadata": {},
   "outputs": [],
   "source": [
    "y_pred_b = model_b.predict(X_test_scaled_a) "
   ]
  },
  {
   "cell_type": "code",
   "execution_count": null,
   "metadata": {},
   "outputs": [],
   "source": [
    "#Calculate AUC\n",
    "false_positive_rate, true_positive_rate, thresholds = roc_curve(y_test_lb, y_pred_b)\n",
    "roc_auc = auc(false_positive_rate, true_positive_rate)\n",
    "print('\\nAUC is :{0}'.format(round(roc_auc, 2)))"
   ]
  },
  {
   "cell_type": "code",
   "execution_count": null,
   "metadata": {},
   "outputs": [],
   "source": [
    "#Graph Model B decision tree\n",
    "fig, axes = plt.subplots(nrows = 1,ncols = 1, figsize = (3,3), dpi=300)\n",
    "tree.plot_tree(model_b,\n",
    "               feature_names = X_train_2.columns, \n",
    "               class_names=np.unique(y_train).astype('str'),\n",
    "               filled = True)\n",
    "plt.show()"
   ]
  },
  {
   "cell_type": "markdown",
   "metadata": {},
   "source": [
    " - Overly large and complex tree graph again confirms that Model B is overfitting the data and will need to tuned going forward"
   ]
  },
  {
   "cell_type": "markdown",
   "metadata": {},
   "source": [
    "### Model B Summary"
   ]
  },
  {
   "cell_type": "markdown",
   "metadata": {},
   "source": [
    " - Model B top features: \n",
    " 1. Total Charge\n",
    " \n",
    " 2. Customer Service Calls\n",
    " \n",
    " 3. Number Voice Mail Messages\n",
    " \n",
    " 4. Total International Minutes\n",
    " \n",
    " 5. International plan (no)\n",
    " \n",
    " \n",
    " - Precision Score (test data): 100% (Up 61% from Model A2)\n",
    "\n",
    " - Area under the curve (test data): 88% (Up 4% from Model A2)\n",
    " \n",
    " - Model B is overfitting and parameters will need to adjusted going forward in order to produce a more reliable model."
   ]
  },
  {
   "cell_type": "markdown",
   "metadata": {},
   "source": [
    "## Model B2 - Decision Tree (Tuned Parameters)"
   ]
  },
  {
   "cell_type": "markdown",
   "metadata": {},
   "source": [
    "### Parameter Tuning"
   ]
  },
  {
   "cell_type": "markdown",
   "metadata": {},
   "source": [
    ">### GridsearchCV"
   ]
  },
  {
   "cell_type": "code",
   "execution_count": null,
   "metadata": {},
   "outputs": [],
   "source": [
    "#Select parameter options for gridsearchcv\n",
    "param_grid_b2 = [    \n",
    "    {'max_depth' : [1, 10, 10],\n",
    "    'min_samples_split' : [1, 10, 10],\n",
    "    'min_samples_leaf' : [0.1, 0.5, 5]\n",
    "    }]"
   ]
  },
  {
   "cell_type": "code",
   "execution_count": null,
   "metadata": {},
   "outputs": [],
   "source": [
    "#Create GridsearchCV classifier\n",
    "clf_b2 = GridSearchCV(model_b, param_grid = param_grid_b2, cv = 3, verbose=True, n_jobs=-1)"
   ]
  },
  {
   "cell_type": "code",
   "execution_count": null,
   "metadata": {},
   "outputs": [],
   "source": [
    "#Fit data and run GridsearchCV\n",
    "best_clf_b2 = clf_b2.fit(X_train_scaled_a, y_train_lb)"
   ]
  },
  {
   "cell_type": "code",
   "execution_count": null,
   "metadata": {},
   "outputs": [],
   "source": [
    "#Best classifer estimates\n",
    "best_clf_b2.best_estimator_"
   ]
  },
  {
   "cell_type": "code",
   "execution_count": null,
   "metadata": {},
   "outputs": [],
   "source": [
    "#Create new decision tree model based on best classifier estimates\n",
    "classifier_2 = DecisionTreeClassifier(max_depth=10, min_samples_split=10, min_samples_leaf=5, random_state=42)  \n",
    "classifier_2.fit(X_train_scaled_a, y_train_lb)"
   ]
  },
  {
   "cell_type": "markdown",
   "metadata": {},
   "source": [
    "### Check Feature Importance"
   ]
  },
  {
   "cell_type": "code",
   "execution_count": null,
   "metadata": {},
   "outputs": [],
   "source": [
    "#List of features for Model B2\n",
    "features_a_train.columns"
   ]
  },
  {
   "cell_type": "code",
   "execution_count": null,
   "metadata": {},
   "outputs": [],
   "source": [
    "#Create Model B2 feature importance\n",
    "importance_b2 = classifier_2.feature_importances_"
   ]
  },
  {
   "cell_type": "code",
   "execution_count": null,
   "metadata": {},
   "outputs": [],
   "source": [
    "#Check Model B2 feature importance\n",
    "for i,v in enumerate(importance_b2):\n",
    "    print('Feature: %0d, Score: %.5f' % (i,v))"
   ]
  },
  {
   "cell_type": "code",
   "execution_count": null,
   "metadata": {},
   "outputs": [],
   "source": [
    "#Bar graph of model B2 feature importance\n",
    "plt.bar([x for x in range(len(importance_b2))], importance_b2)\n",
    "plt.title('Model B2 Feature Importance')\n",
    "plt.xlabel('Features')\n",
    "plt.ylabel('Importance')\n",
    "plt.show()"
   ]
  },
  {
   "cell_type": "markdown",
   "metadata": {},
   "source": [
    " - According to Model B2, the top five most imortant features in predicting churn are:\n",
    " 1. Total Charge\n",
    " \n",
    " 2. Customer Service Calls\n",
    " \n",
    " 3. Voice Mail plan (no)\n",
    " \n",
    " 4. Total International Minutes\n",
    " \n",
    " 5. International plan (no)"
   ]
  },
  {
   "cell_type": "code",
   "execution_count": null,
   "metadata": {},
   "outputs": [],
   "source": [
    "#Training Data confusion matrix \n",
    "plot_confusion_matrix(classifier_2, X_train_scaled_a, y_train_lb, cmap=plt.cm.Greens)\n",
    "plt.grid(False)"
   ]
  },
  {
   "cell_type": "code",
   "execution_count": null,
   "metadata": {},
   "outputs": [],
   "source": [
    "#Testing Data confusion matrix\n",
    "plot_confusion_matrix(classifier_2, X_test_scaled_a, y_test_lb, cmap=plt.cm.Greens)\n",
    "plt.grid(False)"
   ]
  },
  {
   "cell_type": "markdown",
   "metadata": {},
   "source": [
    " - According to the testing data confusion matrix, out of all the true positives, Model B2 predicts 99 out of 107 correctly. This would seem to indicate a high precsion score which should be reflected in the classification report."
   ]
  },
  {
   "cell_type": "code",
   "execution_count": null,
   "metadata": {},
   "outputs": [],
   "source": [
    "#Training data classification report\n",
    "print(classification_report(y_train_lb, classifier_2.predict(X_train_scaled_a)))"
   ]
  },
  {
   "cell_type": "code",
   "execution_count": null,
   "metadata": {},
   "outputs": [],
   "source": [
    "#Testing data classification report\n",
    "print(classification_report(y_test_lb, classifier_2.predict(X_test_scaled_a)))"
   ]
  },
  {
   "cell_type": "markdown",
   "metadata": {},
   "source": [
    " - According to the testing data classification report Model B2 shows a 93% precision score for true-churn. This would indicate a strong model based on our main evaluation metric of precision.\n",
    " \n",
    " \n",
    " - Model B2 does not appear to be overfitting based on the similar results of metrics from the training and testing datasets."
   ]
  },
  {
   "cell_type": "code",
   "execution_count": null,
   "metadata": {},
   "outputs": [],
   "source": [
    "y_pred_b_2 = classifier_2.predict(X_test_scaled_a) "
   ]
  },
  {
   "cell_type": "code",
   "execution_count": null,
   "metadata": {},
   "outputs": [],
   "source": [
    "false_positive_rate, true_positive_rate, thresholds = roc_curve(y_test_lb, y_pred_b_2)\n",
    "roc_auc = auc(false_positive_rate, true_positive_rate)\n",
    "print('\\nAUC is :{0}'.format(round(roc_auc, 2)))"
   ]
  },
  {
   "cell_type": "code",
   "execution_count": null,
   "metadata": {},
   "outputs": [],
   "source": [
    "fig, axes = plt.subplots(nrows = 1,ncols = 1, figsize = (20,10), dpi=300)\n",
    "tree.plot_tree(classifier_2,\n",
    "               feature_names = X_train_2.columns, \n",
    "               class_names=np.unique(y_train).astype('str'),\n",
    "               filled = True)\n",
    "plt.show()"
   ]
  },
  {
   "cell_type": "markdown",
   "metadata": {},
   "source": [
    "### Model B2 Summary"
   ]
  },
  {
   "cell_type": "markdown",
   "metadata": {},
   "source": [
    " - Model B2 top features: \n",
    " 1. Total Charge\n",
    " \n",
    " 2. Customer Service Calls\n",
    " \n",
    " 3. Voice Mail plan (no)\n",
    " \n",
    " 4. Total International Minutes\n",
    " \n",
    " 5. International plan (no)\n",
    " \n",
    " - Precision Score (test data): 93% (Highest precision score so far)\n",
    "\n",
    " - Area under the curve (test data): 89% (Highest AUC score so far)\n",
    " \n",
    " - Model B2 does not appear to be overfitting based on similar training and testing results."
   ]
  },
  {
   "cell_type": "markdown",
   "metadata": {},
   "source": [
    "## Model C - Random Forest"
   ]
  },
  {
   "cell_type": "code",
   "execution_count": null,
   "metadata": {},
   "outputs": [],
   "source": [
    "#Create Random Forest model\n",
    "forest = RandomForestClassifier(random_state=42)\n",
    "forest.fit(features_a_train, y_train)"
   ]
  },
  {
   "cell_type": "code",
   "execution_count": null,
   "metadata": {},
   "outputs": [],
   "source": [
    "#Convert training features to dataframe\n",
    "features_a_train_df = pd.DataFrame(features_a_train)"
   ]
  },
  {
   "cell_type": "code",
   "execution_count": null,
   "metadata": {},
   "outputs": [],
   "source": [
    "#Convert testing features to dataframe\n",
    "features_a_test_df = pd.DataFrame(features_a_test)"
   ]
  },
  {
   "cell_type": "code",
   "execution_count": null,
   "metadata": {},
   "outputs": [],
   "source": [
    "features_a_train_df.columns"
   ]
  },
  {
   "cell_type": "code",
   "execution_count": null,
   "metadata": {},
   "outputs": [],
   "source": [
    "#Check feature importance\n",
    "forest.feature_importances_"
   ]
  },
  {
   "cell_type": "code",
   "execution_count": null,
   "metadata": {},
   "outputs": [],
   "source": [
    "#Graph feature importance\n",
    "feat_imps_df = pd.DataFrame(\n",
    "    zip(features_a_train_df.columns, forest.feature_importances_),\n",
    "    columns=['Feature', 'Importance'],\n",
    "    )\n",
    "\n",
    "fig, ax = plt.subplots()\n",
    "sns.barplot(x='Importance', y='Feature', \n",
    "            data=feat_imps_df.sort_values(by='Importance', ascending=False), orient='h', \n",
    "            ax=ax, color='tab:blue')\n",
    "plt.title('Model C Feature Importance')\n",
    "plt.tight_layout()"
   ]
  },
  {
   "cell_type": "markdown",
   "metadata": {},
   "source": [
    " - According to Model C, the top five most imortant features in predicting churn are:\n",
    " 1. Total Charge\n",
    " \n",
    " 2. Customer Service Calls\n",
    " \n",
    " 3. Total International Minutes\n",
    " \n",
    " 4. Total Eve Minutes\n",
    " \n",
    " 5. Total Night Minutes"
   ]
  },
  {
   "cell_type": "code",
   "execution_count": null,
   "metadata": {},
   "outputs": [],
   "source": [
    "#Model C training data classification report\n",
    "print(classification_report(y_train_lb, forest.predict(features_a_train_df)))"
   ]
  },
  {
   "cell_type": "code",
   "execution_count": null,
   "metadata": {},
   "outputs": [],
   "source": [
    "#Model C testing data classification report\n",
    "print(classification_report(y_test_lb, forest.predict(features_a_test_df)))"
   ]
  },
  {
   "cell_type": "markdown",
   "metadata": {},
   "source": [
    " - According to the testing data classification report Model C shows a 97% precision score for true-churn. This would indicate a strong model based on our main evaluation metric of precision.\n",
    " \n",
    " \n",
    " - Model C appears to be overfitting based on the perfect results from the training data. Will need to tune parameters going forward."
   ]
  },
  {
   "cell_type": "code",
   "execution_count": null,
   "metadata": {},
   "outputs": [],
   "source": [
    "y_pred_c = forest.predict(features_a_test) "
   ]
  },
  {
   "cell_type": "code",
   "execution_count": null,
   "metadata": {},
   "outputs": [],
   "source": [
    "#Calculate Model C AUC\n",
    "false_positive_rate_c, true_positive_rate_c, thresholds_c = roc_curve(y_test_lb, y_pred_c)\n",
    "roc_auc_c = auc(false_positive_rate_c, true_positive_rate_c)\n",
    "print('\\nAUC is :{0}'.format(round(roc_auc_c, 2)))"
   ]
  },
  {
   "cell_type": "markdown",
   "metadata": {},
   "source": [
    "### Model C Summary"
   ]
  },
  {
   "cell_type": "markdown",
   "metadata": {},
   "source": [
    " - Model B2 top features: \n",
    " 1. Total Charge\n",
    " \n",
    " 2. Customer Service Calls\n",
    " \n",
    " 3. Total International Minutes\n",
    " \n",
    " 4. Total Eve Minutes\n",
    " \n",
    " 5. Total Night Minutes\n",
    " \n",
    " - Precision Score (test data): 97% (Highest precision score so far)\n",
    "\n",
    " - Area under the curve (test data): 89% (Highest AUC score, tied with Model B2)\n",
    " \n",
    " - Model C appears to be overfitting based on perfect training data results"
   ]
  },
  {
   "cell_type": "markdown",
   "metadata": {},
   "source": [
    "## Model C2 - Random Forrest (Tuned Parameters)"
   ]
  },
  {
   "cell_type": "markdown",
   "metadata": {},
   "source": [
    "### Parameter Tuning"
   ]
  },
  {
   "cell_type": "markdown",
   "metadata": {},
   "source": [
    ">### GridsearchCV"
   ]
  },
  {
   "cell_type": "code",
   "execution_count": null,
   "metadata": {},
   "outputs": [],
   "source": [
    "#Select parameter options for gridsearchcv\n",
    "param_grid_c = [    \n",
    "    {'min_samples_leaf' : [1, 2, 4],\n",
    "    'n_estimators' : [100, 200, 300],\n",
    "    'min_samples_split' : [2, 5, 10],\n",
    "     'max_depth' : [10, 20, 30, 40, 50]\n",
    "    }]"
   ]
  },
  {
   "cell_type": "code",
   "execution_count": null,
   "metadata": {},
   "outputs": [],
   "source": [
    "#Create GridsearchCV classifier\n",
    "clf_c = GridSearchCV(forest, param_grid = param_grid_c, cv = 3, verbose=True, n_jobs=-1)"
   ]
  },
  {
   "cell_type": "code",
   "execution_count": null,
   "metadata": {},
   "outputs": [],
   "source": [
    "#Fit data and run GridsearchCV\n",
    "best_clf_c = clf_c.fit(features_a_train, y_train_lb)"
   ]
  },
  {
   "cell_type": "code",
   "execution_count": null,
   "metadata": {},
   "outputs": [],
   "source": [
    "#Best classifer estimates\n",
    "best_clf_c.best_estimator_"
   ]
  },
  {
   "cell_type": "code",
   "execution_count": null,
   "metadata": {},
   "outputs": [],
   "source": [
    "forest_2 = RandomForestClassifier(max_depth=20, min_samples_leaf=4, n_estimators=200,\n",
    "                       random_state=42)\n",
    "forest_2.fit(features_a_train, y_train)"
   ]
  },
  {
   "cell_type": "code",
   "execution_count": null,
   "metadata": {},
   "outputs": [],
   "source": [
    "features_a_train_df.columns"
   ]
  },
  {
   "cell_type": "code",
   "execution_count": null,
   "metadata": {},
   "outputs": [],
   "source": [
    "forest_2.feature_importances_"
   ]
  },
  {
   "cell_type": "code",
   "execution_count": null,
   "metadata": {},
   "outputs": [],
   "source": [
    "feat_imps_df = pd.DataFrame(\n",
    "zip(features_a_train_df.columns, forest_2.feature_importances_),\n",
    "    columns=['Feature', 'Importance'],\n",
    "    )\n",
    "\n",
    "fig, ax = plt.subplots()\n",
    "sns.barplot(x='Importance', y='Feature', \n",
    "            data=feat_imps_df.sort_values(by='Importance', ascending=False), orient='h', ax=ax, color='tab:blue')\n",
    "plt.title('Model C2 Feature Importance')\n",
    "plt.tight_layout()"
   ]
  },
  {
   "cell_type": "markdown",
   "metadata": {},
   "source": [
    " - According to Model C, the top five most imortant features in predicting churn are:\n",
    " 1. Total Charge\n",
    " \n",
    " 2. Customer Service Calls\n",
    " \n",
    " 3. Total International Minutes\n",
    " \n",
    " 4. International Plan (no)\n",
    " \n",
    " 5. Total Eve Minutes"
   ]
  },
  {
   "cell_type": "code",
   "execution_count": null,
   "metadata": {},
   "outputs": [],
   "source": [
    "print(classification_report(y_train_lb, forest_2.predict(features_a_train_df)))"
   ]
  },
  {
   "cell_type": "code",
   "execution_count": null,
   "metadata": {},
   "outputs": [],
   "source": [
    "print(classification_report(y_test_lb, forest_2.predict(features_a_test_df)))"
   ]
  },
  {
   "cell_type": "markdown",
   "metadata": {},
   "source": [
    " - According to the testing data classification report Model C2 shows a 100% precision score for true-churn. This would indicate the strongest model based on our main evaluation metric of precision.\n",
    " \n",
    " \n",
    " - Model C does not appear to be overfitting based on the similar results of metrics from the training and testing datasets."
   ]
  },
  {
   "cell_type": "code",
   "execution_count": null,
   "metadata": {},
   "outputs": [],
   "source": [
    "y_pred_c_2 = forest_2.predict(features_a_test) "
   ]
  },
  {
   "cell_type": "code",
   "execution_count": null,
   "metadata": {},
   "outputs": [],
   "source": [
    "false_positive_rate_c_2, true_positive_rate_c_2, thresholds_c_2 = roc_curve(y_test_lb, y_pred_c)\n",
    "roc_auc_c_2 = auc(false_positive_rate_c_2, true_positive_rate_c_2)\n",
    "print('\\nAUC is :{0}'.format(round(roc_auc_c_2, 2)))"
   ]
  },
  {
   "cell_type": "markdown",
   "metadata": {},
   "source": [
    "### Model C2 Summary"
   ]
  },
  {
   "cell_type": "markdown",
   "metadata": {},
   "source": [
    " - Model B2 top features: \n",
    " - According to Model C, the top five most imortant features in predicting churn are:\n",
    " 1. Total Charge\n",
    " \n",
    " 2. Customer Service Calls\n",
    " \n",
    " 3. Total International Minutes\n",
    " \n",
    " 4. International Plan (no)\n",
    " \n",
    " 5. Total Eve Minutes\n",
    " \n",
    " - Precision Score (test data): 100% (Highest precision score of all models)\n",
    "\n",
    " - Area under the curve (test data): 89% (Highest AUC score, tied with Model B2 and Model C)\n",
    " \n",
    " - Model C2 does not appear to be overfitting based on similar training and testing results.\n",
    " \n",
    " - Because Model C2 features the highest precision score and AUC (our main evaluation metrics), will use this model as primary model for making business recommendations."
   ]
  },
  {
   "cell_type": "markdown",
   "metadata": {},
   "source": [
    "## Models Comparison"
   ]
  },
  {
   "cell_type": "code",
   "execution_count": null,
   "metadata": {},
   "outputs": [],
   "source": [
    "data = {'Model Description':['Logistic Regression (Vanilla Model)', \n",
    "                             'Logistic Regression (Tuned Parameters & Reduced Features)', \n",
    "                             'Decision Tree (Vanilla Model)', 'Decision Tree (Tuned Parameters)', \n",
    "                      'Random Forest (Vanilla Model)', 'Random Forest (Tuned Parameters)'],\n",
    "    'Precision':[.40, .39, .75, .93, .97, 100],\n",
    "       'AUC':[.84, .84, .88, .89, .89, .89],\n",
    "        'Feature 1': ['Customer Service Calls', \n",
    "                         'Customer Service Calls',\n",
    "                        'Total Charge',\n",
    "                        'Total Charge',\n",
    "                        'Total Charge',\n",
    "                        'Total Charge'],\n",
    "        'Feature 2': ['Total Charge', 'Total Charge', 'Customer Service Calls', 'Customer Service calls',\n",
    "                     'Customer Service Calls', 'Customer Service Calls'],\n",
    "        'Feature 3': ['International Plan', 'International Plan (no)', 'Number Vmail Messages', 'Voice Mail Plan (no)',\n",
    "                      'Total International Minutes', 'Total International Minutes'],\n",
    "        'Notes': ['Low Performing', 'Low Performing', 'Overfitting Model', 'Good Model', 'Overfitting Model', 'Best Model']\n",
    "       }\n",
    "model_comparison = pd.DataFrame(data, index=['Model A', 'Model A2', 'Model B', 'Model B2', 'Model C', 'Model C2'])\n",
    "model_comparison"
   ]
  },
  {
   "cell_type": "markdown",
   "metadata": {},
   "source": [
    "## Conclusion/Business Recommendations"
   ]
  },
  {
   "cell_type": "markdown",
   "metadata": {},
   "source": [
    " - Based on the analysis in this notebook I would recommend the following three business strategies to SyriaTel as a way to prevent losing customers to churn in the future.\n",
    " \n",
    " 1. The most imortant factor in losing customers to churn according the analysis is a customer having a high 'Total Charge'. This makes sense as customers who are paying the most would probably become unhappy with their service and seek out an alternative provider. One solution to this could be to monitor customers' accounts and create a promotion or discount for customers with the highest total charge as a way to prevent them from canceling their service due to high costs.\n",
    " \n",
    " 2. The second most important factor in losing customers to churn appears to be Customer Service Calls. The more a customer calls customer service, the more likely they are to cancel their service. One way to prevent this would be to monitor accounts and notice when customer service calls are above average. A promotion or discounted rate could then be offered to these customers in order to prevent them from canceling their service. Another cheaper solution could be to premptively reach out to these customers in order resolve the issue of why they keep calling for help from customer service. Finally a third way to resolve this could be to overall improve the customer service department, thus improving the customer experience and preventing customer service issues before they become a problem.  \n",
    " \n",
    " 3. The third most imortant factor in losing customers to churn appears to be 'Total International Minutes'. The more total international minutes a customer has, the more likely they are to cancel their service. One solution to this could be to offer a better international plan to these customers in order to prevent them from seeking out an alternative provider. A promotion such as this could also potentially persude international customers from other service providers to switch to SyriaTel, thus increasing the customer base even further."
   ]
  },
  {
   "cell_type": "markdown",
   "metadata": {},
   "source": [
    "## Future Work"
   ]
  },
  {
   "cell_type": "markdown",
   "metadata": {},
   "source": [
    "1. In order to better improve the models, will likely need to to test models on larger customer datasets to see if models remain accurate across a larger customer sample.\n",
    "\n",
    "2. Could also test models on competitors’ datasets to see if models are similar across different wireless companies.\n",
    "\n",
    "3. Finally could also build several more unique models as well tuning more model parameters to see if any further conclusions can be reached."
   ]
  },
  {
   "cell_type": "code",
   "execution_count": null,
   "metadata": {},
   "outputs": [],
   "source": []
  }
 ],
 "metadata": {
  "kernelspec": {
   "display_name": "Python 3",
   "language": "python",
   "name": "python3"
  },
  "language_info": {
   "codemirror_mode": {
    "name": "ipython",
    "version": 3
   },
   "file_extension": ".py",
   "mimetype": "text/x-python",
   "name": "python",
   "nbconvert_exporter": "python",
   "pygments_lexer": "ipython3",
   "version": "3.8.5"
  }
 },
 "nbformat": 4,
 "nbformat_minor": 4
}
